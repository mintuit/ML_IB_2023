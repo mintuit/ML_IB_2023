{
 "cells": [
  {
   "cell_type": "markdown",
   "metadata": {
    "id": "axkM7Qr2ruw8",
    "papermill": {
     "duration": 0.044486,
     "end_time": "2022-02-13T23:28:22.423626",
     "exception": false,
     "start_time": "2022-02-13T23:28:22.37914",
     "status": "completed"
    },
    "tags": []
   },
   "source": [
    "# <center> Предсказание победителя в Dota 2\n",
    "<center> <img src=\"https://meduza.io/impro/YnJZAHUW6WHz_JQm1uRPkTql_qAhbfxt3oFJLGH7CJg/fill/980/0/ce/1/aHR0cHM6Ly9tZWR1/emEuaW8vaW1hZ2Uv/YXR0YWNobWVudHMv/aW1hZ2VzLzAwNy8x/NTcvNjk1L29yaWdp/bmFsL0tMVThLbUti/ZG5pSzlibDA0Wmlw/WXcuanBn.webp\" width=\"700\" height=\"700\">"
   ]
  },
  {
   "cell_type": "markdown",
   "metadata": {
    "id": "-gTJjYqMruxB",
    "papermill": {
     "duration": 0.042953,
     "end_time": "2022-02-13T23:28:22.51031",
     "exception": false,
     "start_time": "2022-02-13T23:28:22.467357",
     "status": "completed"
    },
    "tags": []
   },
   "source": [
    "[Почитать подбробнее](https://meduza.io/feature/2021/10/19/rossiyskaya-komanda-vyigrala-chempionat-mira-po-dota-2-i-poluchila-18-millionov-dollarov-postoyte-otkuda-takie-dengi-neuzheli-igrat-v-dotu-tak-slozhno)"
   ]
  },
  {
   "cell_type": "markdown",
   "metadata": {
    "id": "Pky9XOV_ruxD",
    "papermill": {
     "duration": 0.042954,
     "end_time": "2022-02-13T23:28:22.59833",
     "exception": false,
     "start_time": "2022-02-13T23:28:22.555376",
     "status": "completed"
    },
    "tags": []
   },
   "source": [
    "#### [Оригинальная статья](https://arxiv.org/pdf/2106.01782.pdf)\n",
    "    \n",
    "### Начало\n",
    "\n",
    "Посмотрим на готовые признаки и сделаем первую посылку. \n",
    "\n",
    "1. [Описание данных](#Описание-данных)\n",
    "2. [Описание признаков](#Описание-признаков)\n",
    "3. [Наша первая модель](#Наша-первая-модель)\n",
    "4. [Посылка](#Посылка)\n",
    "\n",
    "### Первые шаги на пути в датасайенс\n",
    "\n",
    "5. [Кросс-валидация](#Кросс-валидация)\n",
    "6. [Что есть в json файлах?](#Что-есть-в-json-файлах?)\n",
    "7. [Feature engineering](#Feature-engineering)"
   ]
  },
  {
   "cell_type": "markdown",
   "metadata": {
    "id": "QkyimgeTruxE",
    "papermill": {
     "duration": 0.045141,
     "end_time": "2022-02-13T23:28:22.688388",
     "exception": false,
     "start_time": "2022-02-13T23:28:22.643247",
     "status": "completed"
    },
    "tags": []
   },
   "source": [
    "### Импорты"
   ]
  },
  {
   "cell_type": "code",
   "execution_count": 1,
   "metadata": {
    "execution": {
     "iopub.execute_input": "2022-02-13T23:28:22.779257Z",
     "iopub.status.busy": "2022-02-13T23:28:22.778075Z",
     "iopub.status.idle": "2022-02-13T23:28:24.258416Z",
     "shell.execute_reply": "2022-02-13T23:28:24.257521Z",
     "shell.execute_reply.started": "2022-02-13T22:54:24.5044Z"
    },
    "id": "sZEWTt6yruxF",
    "papermill": {
     "duration": 1.526998,
     "end_time": "2022-02-13T23:28:24.258607",
     "exception": false,
     "start_time": "2022-02-13T23:28:22.731609",
     "status": "completed"
    },
    "tags": []
   },
   "outputs": [],
   "source": [
    "import os\n",
    "import json\n",
    "import pandas as pd\n",
    "import datetime\n",
    "import warnings\n",
    "import seaborn as sns\n",
    "import matplotlib.pyplot as plt\n",
    "from sklearn.model_selection import train_test_split, ShuffleSplit, cross_val_score\n",
    "from sklearn.ensemble import RandomForestClassifier\n",
    "from sklearn.metrics import roc_auc_score, accuracy_score\n",
    "from sklearn.ensemble import GradientBoostingClassifier\n",
    "import numpy as np\n",
    "import matplotlib.pyplot as plt\n",
    "import seaborn as sns\n",
    "import warnings\n",
    "import random\n",
    "import math\n",
    "import pandas as pd\n",
    "import xgboost\n",
    "import lightgbm\n",
    "import catboost\n",
    "\n",
    "from matplotlib.colors import ListedColormap\n",
    "from scipy.stats import pearsonr\n",
    "from itertools import combinations\n",
    "from sklearn.base import BaseEstimator\n",
    "from sklearn import datasets\n",
    "from sklearn.model_selection import train_test_split\n",
    "from sklearn.ensemble import (RandomForestClassifier,\n",
    "                              ExtraTreesClassifier,\n",
    "                              VotingClassifier)\n",
    "from sklearn.tree import (DecisionTreeRegressor,\n",
    "                          DecisionTreeClassifier)\n",
    "from sklearn.neighbors import KNeighborsClassifier\n",
    "from sklearn.svm import SVC\n",
    "from sklearn.linear_model import LogisticRegression\n",
    "from sklearn.naive_bayes import GaussianNB\n",
    "from sklearn.model_selection import cross_val_score\n",
    "from sklearn.model_selection import GridSearchCV\n",
    "\n",
    "%matplotlib inline"
   ]
  },
  {
   "cell_type": "code",
   "execution_count": 2,
   "metadata": {
    "execution": {
     "iopub.execute_input": "2022-02-13T23:28:24.349946Z",
     "iopub.status.busy": "2022-02-13T23:28:24.349155Z",
     "iopub.status.idle": "2022-02-13T23:28:24.354489Z",
     "shell.execute_reply": "2022-02-13T23:28:24.35395Z",
     "shell.execute_reply.started": "2022-02-13T22:54:27.968328Z"
    },
    "id": "qrH3p2seruxI",
    "papermill": {
     "duration": 0.051811,
     "end_time": "2022-02-13T23:28:24.354647",
     "exception": false,
     "start_time": "2022-02-13T23:28:24.302836",
     "status": "completed"
    },
    "tags": []
   },
   "outputs": [],
   "source": [
    "SEED = 10801\n",
    "sns.set_style(style=\"whitegrid\")\n",
    "plt.rcParams[\"figure.figsize\"] = 12, 8\n",
    "warnings.filterwarnings(\"ignore\")"
   ]
  },
  {
   "cell_type": "markdown",
   "metadata": {
    "id": "Cl99vE3IruxJ",
    "papermill": {
     "duration": 0.042707,
     "end_time": "2022-02-13T23:28:24.441767",
     "exception": false,
     "start_time": "2022-02-13T23:28:24.39906",
     "status": "completed"
    },
    "tags": []
   },
   "source": [
    "## <left>Описание данных\n",
    "\n",
    "Файлы:\n",
    "\n",
    "- `sample_submission.csv`: пример файла-посылки\n",
    "- `train_raw_data.jsonl`, `test_raw_data.jsonl`: \"сырые\" данные \n",
    "- `train_data.csv`, `test_data.csv`: признаки, созданные авторами\n",
    "- `train_targets.csv`: результаты тренировочных игр"
   ]
  },
  {
   "cell_type": "markdown",
   "metadata": {
    "id": "-J0sB1x8ruxK",
    "papermill": {
     "duration": 0.042685,
     "end_time": "2022-02-13T23:28:24.527617",
     "exception": false,
     "start_time": "2022-02-13T23:28:24.484932",
     "status": "completed"
    },
    "tags": []
   },
   "source": [
    "## <left>Описание признаков\n",
    "    \n",
    "Набор простых признаков, описывающих игроков и команды в целом"
   ]
  },
  {
   "cell_type": "code",
   "execution_count": 3,
   "metadata": {
    "execution": {
     "iopub.execute_input": "2022-02-13T23:28:24.621037Z",
     "iopub.status.busy": "2022-02-13T23:28:24.61794Z",
     "iopub.status.idle": "2022-02-13T23:28:25.955763Z",
     "shell.execute_reply": "2022-02-13T23:28:25.955019Z",
     "shell.execute_reply.started": "2022-02-13T22:54:30.336618Z"
    },
    "id": "9Dvge_epruxL",
    "papermill": {
     "duration": 1.383765,
     "end_time": "2022-02-13T23:28:25.955912",
     "exception": false,
     "start_time": "2022-02-13T23:28:24.572147",
     "status": "completed"
    },
    "tags": []
   },
   "outputs": [],
   "source": [
    "#PATH_TO_DATA = \"../input/bi-2021-ml-competitions-dota2\"\n",
    "\n",
    "#df_train_features = pd.read_csv(os.path.join(PATH_TO_DATA, \n",
    "#                                             \"train_data.csv\"), \n",
    "#                                    index_col=\"match_id_hash\")\n",
    "#df_train_targets = pd.read_csv(os.path.join(PATH_TO_DATA, \n",
    "#                                            \"train_targets.csv\"), \n",
    "#                                   index_col=\"match_id_hash\")\n",
    "df_train_features = pd.read_csv(\"train_data.csv\", index_col=\"match_id_hash\")\n",
    "df_train_targets = pd.read_csv(\"train_targets.csv\", index_col=\"match_id_hash\")"
   ]
  },
  {
   "cell_type": "code",
   "execution_count": 4,
   "metadata": {
    "colab": {
     "base_uri": "https://localhost:8080/"
    },
    "execution": {
     "iopub.execute_input": "2022-02-13T23:28:26.051436Z",
     "iopub.status.busy": "2022-02-13T23:28:26.050453Z",
     "iopub.status.idle": "2022-02-13T23:28:26.054853Z",
     "shell.execute_reply": "2022-02-13T23:28:26.05539Z",
     "shell.execute_reply.started": "2022-02-13T22:54:33.105218Z"
    },
    "id": "snJNvBtPruxM",
    "outputId": "289877c6-eea6-4c9b-87c2-d14b880c1cd4",
    "papermill": {
     "duration": 0.055919,
     "end_time": "2022-02-13T23:28:26.055573",
     "exception": false,
     "start_time": "2022-02-13T23:28:25.999654",
     "status": "completed"
    },
    "tags": []
   },
   "outputs": [
    {
     "data": {
      "text/plain": [
       "(31698, 245)"
      ]
     },
     "execution_count": 4,
     "metadata": {},
     "output_type": "execute_result"
    }
   ],
   "source": [
    "df_train_features.shape"
   ]
  },
  {
   "cell_type": "code",
   "execution_count": 5,
   "metadata": {
    "colab": {
     "base_uri": "https://localhost:8080/",
     "height": 331
    },
    "execution": {
     "iopub.execute_input": "2022-02-13T23:28:26.154088Z",
     "iopub.status.busy": "2022-02-13T23:28:26.153391Z",
     "iopub.status.idle": "2022-02-13T23:28:26.173095Z",
     "shell.execute_reply": "2022-02-13T23:28:26.173612Z",
     "shell.execute_reply.started": "2022-02-13T22:54:34.150651Z"
    },
    "id": "erAIPDXcruxN",
    "outputId": "b1b11d1c-02ff-4199-d13f-fb2acaaeb250",
    "papermill": {
     "duration": 0.073611,
     "end_time": "2022-02-13T23:28:26.173793",
     "exception": false,
     "start_time": "2022-02-13T23:28:26.100182",
     "status": "completed"
    },
    "tags": []
   },
   "outputs": [
    {
     "data": {
      "text/html": [
       "<div>\n",
       "<style scoped>\n",
       "    .dataframe tbody tr th:only-of-type {\n",
       "        vertical-align: middle;\n",
       "    }\n",
       "\n",
       "    .dataframe tbody tr th {\n",
       "        vertical-align: top;\n",
       "    }\n",
       "\n",
       "    .dataframe thead th {\n",
       "        text-align: right;\n",
       "    }\n",
       "</style>\n",
       "<table border=\"1\" class=\"dataframe\">\n",
       "  <thead>\n",
       "    <tr style=\"text-align: right;\">\n",
       "      <th></th>\n",
       "      <th>game_time</th>\n",
       "      <th>game_mode</th>\n",
       "      <th>lobby_type</th>\n",
       "      <th>objectives_len</th>\n",
       "      <th>chat_len</th>\n",
       "      <th>r1_hero_id</th>\n",
       "      <th>r1_kills</th>\n",
       "      <th>r1_deaths</th>\n",
       "      <th>r1_assists</th>\n",
       "      <th>r1_denies</th>\n",
       "      <th>...</th>\n",
       "      <th>d5_stuns</th>\n",
       "      <th>d5_creeps_stacked</th>\n",
       "      <th>d5_camps_stacked</th>\n",
       "      <th>d5_rune_pickups</th>\n",
       "      <th>d5_firstblood_claimed</th>\n",
       "      <th>d5_teamfight_participation</th>\n",
       "      <th>d5_towers_killed</th>\n",
       "      <th>d5_roshans_killed</th>\n",
       "      <th>d5_obs_placed</th>\n",
       "      <th>d5_sen_placed</th>\n",
       "    </tr>\n",
       "    <tr>\n",
       "      <th>match_id_hash</th>\n",
       "      <th></th>\n",
       "      <th></th>\n",
       "      <th></th>\n",
       "      <th></th>\n",
       "      <th></th>\n",
       "      <th></th>\n",
       "      <th></th>\n",
       "      <th></th>\n",
       "      <th></th>\n",
       "      <th></th>\n",
       "      <th></th>\n",
       "      <th></th>\n",
       "      <th></th>\n",
       "      <th></th>\n",
       "      <th></th>\n",
       "      <th></th>\n",
       "      <th></th>\n",
       "      <th></th>\n",
       "      <th></th>\n",
       "      <th></th>\n",
       "      <th></th>\n",
       "    </tr>\n",
       "  </thead>\n",
       "  <tbody>\n",
       "    <tr>\n",
       "      <td>b9c57c450ce74a2af79c9ce96fac144d</td>\n",
       "      <td>658</td>\n",
       "      <td>4</td>\n",
       "      <td>0</td>\n",
       "      <td>3</td>\n",
       "      <td>10</td>\n",
       "      <td>15</td>\n",
       "      <td>7</td>\n",
       "      <td>2</td>\n",
       "      <td>0</td>\n",
       "      <td>7</td>\n",
       "      <td>...</td>\n",
       "      <td>0.000000</td>\n",
       "      <td>0</td>\n",
       "      <td>0</td>\n",
       "      <td>0</td>\n",
       "      <td>0</td>\n",
       "      <td>0.00</td>\n",
       "      <td>0</td>\n",
       "      <td>0</td>\n",
       "      <td>0</td>\n",
       "      <td>0</td>\n",
       "    </tr>\n",
       "    <tr>\n",
       "      <td>6db558535151ea18ca70a6892197db41</td>\n",
       "      <td>21</td>\n",
       "      <td>23</td>\n",
       "      <td>0</td>\n",
       "      <td>0</td>\n",
       "      <td>0</td>\n",
       "      <td>101</td>\n",
       "      <td>0</td>\n",
       "      <td>0</td>\n",
       "      <td>0</td>\n",
       "      <td>0</td>\n",
       "      <td>...</td>\n",
       "      <td>0.000000</td>\n",
       "      <td>0</td>\n",
       "      <td>0</td>\n",
       "      <td>0</td>\n",
       "      <td>0</td>\n",
       "      <td>0.00</td>\n",
       "      <td>0</td>\n",
       "      <td>0</td>\n",
       "      <td>0</td>\n",
       "      <td>0</td>\n",
       "    </tr>\n",
       "    <tr>\n",
       "      <td>19c39fe2af2b547e48708ca005c6ae74</td>\n",
       "      <td>160</td>\n",
       "      <td>22</td>\n",
       "      <td>7</td>\n",
       "      <td>0</td>\n",
       "      <td>0</td>\n",
       "      <td>57</td>\n",
       "      <td>0</td>\n",
       "      <td>0</td>\n",
       "      <td>0</td>\n",
       "      <td>1</td>\n",
       "      <td>...</td>\n",
       "      <td>0.000000</td>\n",
       "      <td>0</td>\n",
       "      <td>0</td>\n",
       "      <td>0</td>\n",
       "      <td>0</td>\n",
       "      <td>0.00</td>\n",
       "      <td>0</td>\n",
       "      <td>0</td>\n",
       "      <td>0</td>\n",
       "      <td>0</td>\n",
       "    </tr>\n",
       "    <tr>\n",
       "      <td>c96d629dc0c39f0c616d1949938a6ba6</td>\n",
       "      <td>1016</td>\n",
       "      <td>22</td>\n",
       "      <td>0</td>\n",
       "      <td>1</td>\n",
       "      <td>0</td>\n",
       "      <td>119</td>\n",
       "      <td>0</td>\n",
       "      <td>3</td>\n",
       "      <td>3</td>\n",
       "      <td>5</td>\n",
       "      <td>...</td>\n",
       "      <td>8.264696</td>\n",
       "      <td>0</td>\n",
       "      <td>0</td>\n",
       "      <td>3</td>\n",
       "      <td>0</td>\n",
       "      <td>0.25</td>\n",
       "      <td>0</td>\n",
       "      <td>0</td>\n",
       "      <td>3</td>\n",
       "      <td>0</td>\n",
       "    </tr>\n",
       "    <tr>\n",
       "      <td>156c88bff4e9c4668b0f53df3d870f1b</td>\n",
       "      <td>582</td>\n",
       "      <td>22</td>\n",
       "      <td>7</td>\n",
       "      <td>2</td>\n",
       "      <td>2</td>\n",
       "      <td>12</td>\n",
       "      <td>3</td>\n",
       "      <td>1</td>\n",
       "      <td>2</td>\n",
       "      <td>9</td>\n",
       "      <td>...</td>\n",
       "      <td>15.762911</td>\n",
       "      <td>3</td>\n",
       "      <td>1</td>\n",
       "      <td>0</td>\n",
       "      <td>1</td>\n",
       "      <td>0.50</td>\n",
       "      <td>0</td>\n",
       "      <td>0</td>\n",
       "      <td>3</td>\n",
       "      <td>0</td>\n",
       "    </tr>\n",
       "  </tbody>\n",
       "</table>\n",
       "<p>5 rows × 245 columns</p>\n",
       "</div>"
      ],
      "text/plain": [
       "                                  game_time  game_mode  lobby_type  \\\n",
       "match_id_hash                                                        \n",
       "b9c57c450ce74a2af79c9ce96fac144d        658          4           0   \n",
       "6db558535151ea18ca70a6892197db41         21         23           0   \n",
       "19c39fe2af2b547e48708ca005c6ae74        160         22           7   \n",
       "c96d629dc0c39f0c616d1949938a6ba6       1016         22           0   \n",
       "156c88bff4e9c4668b0f53df3d870f1b        582         22           7   \n",
       "\n",
       "                                  objectives_len  chat_len  r1_hero_id  \\\n",
       "match_id_hash                                                            \n",
       "b9c57c450ce74a2af79c9ce96fac144d               3        10          15   \n",
       "6db558535151ea18ca70a6892197db41               0         0         101   \n",
       "19c39fe2af2b547e48708ca005c6ae74               0         0          57   \n",
       "c96d629dc0c39f0c616d1949938a6ba6               1         0         119   \n",
       "156c88bff4e9c4668b0f53df3d870f1b               2         2          12   \n",
       "\n",
       "                                  r1_kills  r1_deaths  r1_assists  r1_denies  \\\n",
       "match_id_hash                                                                  \n",
       "b9c57c450ce74a2af79c9ce96fac144d         7          2           0          7   \n",
       "6db558535151ea18ca70a6892197db41         0          0           0          0   \n",
       "19c39fe2af2b547e48708ca005c6ae74         0          0           0          1   \n",
       "c96d629dc0c39f0c616d1949938a6ba6         0          3           3          5   \n",
       "156c88bff4e9c4668b0f53df3d870f1b         3          1           2          9   \n",
       "\n",
       "                                  ...   d5_stuns  d5_creeps_stacked  \\\n",
       "match_id_hash                     ...                                 \n",
       "b9c57c450ce74a2af79c9ce96fac144d  ...   0.000000                  0   \n",
       "6db558535151ea18ca70a6892197db41  ...   0.000000                  0   \n",
       "19c39fe2af2b547e48708ca005c6ae74  ...   0.000000                  0   \n",
       "c96d629dc0c39f0c616d1949938a6ba6  ...   8.264696                  0   \n",
       "156c88bff4e9c4668b0f53df3d870f1b  ...  15.762911                  3   \n",
       "\n",
       "                                  d5_camps_stacked  d5_rune_pickups  \\\n",
       "match_id_hash                                                         \n",
       "b9c57c450ce74a2af79c9ce96fac144d                 0                0   \n",
       "6db558535151ea18ca70a6892197db41                 0                0   \n",
       "19c39fe2af2b547e48708ca005c6ae74                 0                0   \n",
       "c96d629dc0c39f0c616d1949938a6ba6                 0                3   \n",
       "156c88bff4e9c4668b0f53df3d870f1b                 1                0   \n",
       "\n",
       "                                  d5_firstblood_claimed  \\\n",
       "match_id_hash                                             \n",
       "b9c57c450ce74a2af79c9ce96fac144d                      0   \n",
       "6db558535151ea18ca70a6892197db41                      0   \n",
       "19c39fe2af2b547e48708ca005c6ae74                      0   \n",
       "c96d629dc0c39f0c616d1949938a6ba6                      0   \n",
       "156c88bff4e9c4668b0f53df3d870f1b                      1   \n",
       "\n",
       "                                  d5_teamfight_participation  \\\n",
       "match_id_hash                                                  \n",
       "b9c57c450ce74a2af79c9ce96fac144d                        0.00   \n",
       "6db558535151ea18ca70a6892197db41                        0.00   \n",
       "19c39fe2af2b547e48708ca005c6ae74                        0.00   \n",
       "c96d629dc0c39f0c616d1949938a6ba6                        0.25   \n",
       "156c88bff4e9c4668b0f53df3d870f1b                        0.50   \n",
       "\n",
       "                                  d5_towers_killed  d5_roshans_killed  \\\n",
       "match_id_hash                                                           \n",
       "b9c57c450ce74a2af79c9ce96fac144d                 0                  0   \n",
       "6db558535151ea18ca70a6892197db41                 0                  0   \n",
       "19c39fe2af2b547e48708ca005c6ae74                 0                  0   \n",
       "c96d629dc0c39f0c616d1949938a6ba6                 0                  0   \n",
       "156c88bff4e9c4668b0f53df3d870f1b                 0                  0   \n",
       "\n",
       "                                  d5_obs_placed  d5_sen_placed  \n",
       "match_id_hash                                                   \n",
       "b9c57c450ce74a2af79c9ce96fac144d              0              0  \n",
       "6db558535151ea18ca70a6892197db41              0              0  \n",
       "19c39fe2af2b547e48708ca005c6ae74              0              0  \n",
       "c96d629dc0c39f0c616d1949938a6ba6              3              0  \n",
       "156c88bff4e9c4668b0f53df3d870f1b              3              0  \n",
       "\n",
       "[5 rows x 245 columns]"
      ]
     },
     "execution_count": 5,
     "metadata": {},
     "output_type": "execute_result"
    }
   ],
   "source": [
    "df_train_features.head()"
   ]
  },
  {
   "cell_type": "markdown",
   "metadata": {
    "id": "EvAGOQ5hruxN",
    "papermill": {
     "duration": 0.043707,
     "end_time": "2022-02-13T23:28:26.26179",
     "exception": false,
     "start_time": "2022-02-13T23:28:26.218083",
     "status": "completed"
    },
    "tags": []
   },
   "source": [
    "Имеем ~32 тысячи наблюдений, каждое из которых характеризуется уникальным `match_id_hash` (захэшированное id матча), и 245 признаков. `game_time` показывает момент времени, в который получены эти данные. То есть по сути это не длительность самого матча, а например, его середина, таким образом, в итоге мы сможем получить модель, которая будет предсказывать вероятность победы каждой из команд в течение матча (хорошо подходит для букмекеров)."
   ]
  },
  {
   "cell_type": "markdown",
   "metadata": {
    "id": "0x9TzRrOruxO",
    "papermill": {
     "duration": 0.043619,
     "end_time": "2022-02-13T23:28:26.350788",
     "exception": false,
     "start_time": "2022-02-13T23:28:26.307169",
     "status": "completed"
    },
    "tags": []
   },
   "source": [
    "Нас интересует поле `radiant_win` (так называется одна из команд, вторая - dire). Остальные колоки здесь по сути получены из \"будущего\" и есть только для тренировочных данных, поэтому на них можно просто посмотреть)."
   ]
  },
  {
   "cell_type": "code",
   "execution_count": 6,
   "metadata": {
    "colab": {
     "base_uri": "https://localhost:8080/",
     "height": 237
    },
    "execution": {
     "iopub.execute_input": "2022-02-13T23:28:26.444111Z",
     "iopub.status.busy": "2022-02-13T23:28:26.442619Z",
     "iopub.status.idle": "2022-02-13T23:28:26.453906Z",
     "shell.execute_reply": "2022-02-13T23:28:26.454413Z",
     "shell.execute_reply.started": "2022-02-13T22:54:36.171466Z"
    },
    "id": "jMFAwKjhruxP",
    "outputId": "b933fc4c-06d2-46da-a200-c503b683dc2b",
    "papermill": {
     "duration": 0.059594,
     "end_time": "2022-02-13T23:28:26.454584",
     "exception": false,
     "start_time": "2022-02-13T23:28:26.39499",
     "status": "completed"
    },
    "tags": []
   },
   "outputs": [
    {
     "data": {
      "text/html": [
       "<div>\n",
       "<style scoped>\n",
       "    .dataframe tbody tr th:only-of-type {\n",
       "        vertical-align: middle;\n",
       "    }\n",
       "\n",
       "    .dataframe tbody tr th {\n",
       "        vertical-align: top;\n",
       "    }\n",
       "\n",
       "    .dataframe thead th {\n",
       "        text-align: right;\n",
       "    }\n",
       "</style>\n",
       "<table border=\"1\" class=\"dataframe\">\n",
       "  <thead>\n",
       "    <tr style=\"text-align: right;\">\n",
       "      <th></th>\n",
       "      <th>game_time</th>\n",
       "      <th>radiant_win</th>\n",
       "      <th>duration</th>\n",
       "      <th>time_remaining</th>\n",
       "      <th>next_roshan_team</th>\n",
       "    </tr>\n",
       "    <tr>\n",
       "      <th>match_id_hash</th>\n",
       "      <th></th>\n",
       "      <th></th>\n",
       "      <th></th>\n",
       "      <th></th>\n",
       "      <th></th>\n",
       "    </tr>\n",
       "  </thead>\n",
       "  <tbody>\n",
       "    <tr>\n",
       "      <td>b9c57c450ce74a2af79c9ce96fac144d</td>\n",
       "      <td>658</td>\n",
       "      <td>True</td>\n",
       "      <td>1154</td>\n",
       "      <td>496</td>\n",
       "      <td>NaN</td>\n",
       "    </tr>\n",
       "    <tr>\n",
       "      <td>6db558535151ea18ca70a6892197db41</td>\n",
       "      <td>21</td>\n",
       "      <td>True</td>\n",
       "      <td>1503</td>\n",
       "      <td>1482</td>\n",
       "      <td>Radiant</td>\n",
       "    </tr>\n",
       "    <tr>\n",
       "      <td>19c39fe2af2b547e48708ca005c6ae74</td>\n",
       "      <td>160</td>\n",
       "      <td>False</td>\n",
       "      <td>2063</td>\n",
       "      <td>1903</td>\n",
       "      <td>NaN</td>\n",
       "    </tr>\n",
       "    <tr>\n",
       "      <td>c96d629dc0c39f0c616d1949938a6ba6</td>\n",
       "      <td>1016</td>\n",
       "      <td>True</td>\n",
       "      <td>2147</td>\n",
       "      <td>1131</td>\n",
       "      <td>Radiant</td>\n",
       "    </tr>\n",
       "    <tr>\n",
       "      <td>156c88bff4e9c4668b0f53df3d870f1b</td>\n",
       "      <td>582</td>\n",
       "      <td>False</td>\n",
       "      <td>1927</td>\n",
       "      <td>1345</td>\n",
       "      <td>Dire</td>\n",
       "    </tr>\n",
       "  </tbody>\n",
       "</table>\n",
       "</div>"
      ],
      "text/plain": [
       "                                  game_time  radiant_win  duration  \\\n",
       "match_id_hash                                                        \n",
       "b9c57c450ce74a2af79c9ce96fac144d        658         True      1154   \n",
       "6db558535151ea18ca70a6892197db41         21         True      1503   \n",
       "19c39fe2af2b547e48708ca005c6ae74        160        False      2063   \n",
       "c96d629dc0c39f0c616d1949938a6ba6       1016         True      2147   \n",
       "156c88bff4e9c4668b0f53df3d870f1b        582        False      1927   \n",
       "\n",
       "                                  time_remaining next_roshan_team  \n",
       "match_id_hash                                                      \n",
       "b9c57c450ce74a2af79c9ce96fac144d             496              NaN  \n",
       "6db558535151ea18ca70a6892197db41            1482          Radiant  \n",
       "19c39fe2af2b547e48708ca005c6ae74            1903              NaN  \n",
       "c96d629dc0c39f0c616d1949938a6ba6            1131          Radiant  \n",
       "156c88bff4e9c4668b0f53df3d870f1b            1345             Dire  "
      ]
     },
     "execution_count": 6,
     "metadata": {},
     "output_type": "execute_result"
    }
   ],
   "source": [
    "df_train_targets.head()"
   ]
  },
  {
   "cell_type": "markdown",
   "metadata": {
    "id": "lCz5PJJSruxQ",
    "papermill": {
     "duration": 0.046788,
     "end_time": "2022-02-13T23:28:26.547845",
     "exception": false,
     "start_time": "2022-02-13T23:28:26.501057",
     "status": "completed"
    },
    "tags": []
   },
   "source": [
    "## <left>Наша первая модель"
   ]
  },
  {
   "cell_type": "code",
   "execution_count": 7,
   "metadata": {
    "execution": {
     "iopub.execute_input": "2022-02-13T23:28:26.647577Z",
     "iopub.status.busy": "2022-02-13T23:28:26.64504Z",
     "iopub.status.idle": "2022-02-13T23:28:26.671991Z",
     "shell.execute_reply": "2022-02-13T23:28:26.672585Z",
     "shell.execute_reply.started": "2022-02-13T22:54:39.221703Z"
    },
    "id": "3qdlk4nXruxR",
    "papermill": {
     "duration": 0.078234,
     "end_time": "2022-02-13T23:28:26.672769",
     "exception": false,
     "start_time": "2022-02-13T23:28:26.594535",
     "status": "completed"
    },
    "tags": []
   },
   "outputs": [],
   "source": [
    "X = df_train_features.values\n",
    "y = df_train_targets[\"radiant_win\"].values.astype(\"int8\")"
   ]
  },
  {
   "cell_type": "code",
   "execution_count": 8,
   "metadata": {
    "execution": {
     "iopub.execute_input": "2022-02-13T23:28:26.771678Z",
     "iopub.status.busy": "2022-02-13T23:28:26.768845Z",
     "iopub.status.idle": "2022-02-13T23:28:26.870676Z",
     "shell.execute_reply": "2022-02-13T23:28:26.871233Z",
     "shell.execute_reply.started": "2022-02-13T22:54:39.486872Z"
    },
    "id": "rns_cfTVruxS",
    "papermill": {
     "duration": 0.152481,
     "end_time": "2022-02-13T23:28:26.871414",
     "exception": false,
     "start_time": "2022-02-13T23:28:26.718933",
     "status": "completed"
    },
    "tags": []
   },
   "outputs": [],
   "source": [
    "X_train, X_valid, y_train, y_valid = train_test_split(X, y, \n",
    "                                                      test_size=0.3, \n",
    "                                                      random_state=SEED)"
   ]
  },
  {
   "cell_type": "markdown",
   "metadata": {
    "id": "M7WAfFAkruxT",
    "papermill": {
     "duration": 0.04485,
     "end_time": "2022-02-13T23:28:26.961156",
     "exception": false,
     "start_time": "2022-02-13T23:28:26.916306",
     "status": "completed"
    },
    "tags": []
   },
   "source": [
    "#### Обучим случайный лес"
   ]
  },
  {
   "cell_type": "code",
   "execution_count": 10,
   "metadata": {
    "colab": {
     "base_uri": "https://localhost:8080/",
     "height": 128
    },
    "execution": {
     "iopub.execute_input": "2022-02-13T23:28:27.05442Z",
     "iopub.status.busy": "2022-02-13T23:28:27.053634Z",
     "iopub.status.idle": "2022-02-13T23:28:36.072462Z",
     "shell.execute_reply": "2022-02-13T23:28:36.072928Z",
     "shell.execute_reply.started": "2022-02-13T22:55:21.167897Z"
    },
    "id": "aqCeUY-YruxU",
    "outputId": "55a16482-d4fa-4a80-eb01-23aaa39b67a3",
    "papermill": {
     "duration": 9.067224,
     "end_time": "2022-02-13T23:28:36.073116",
     "exception": false,
     "start_time": "2022-02-13T23:28:27.005892",
     "status": "completed"
    },
    "tags": []
   },
   "outputs": [
    {
     "name": "stdout",
     "output_type": "stream",
     "text": [
      "Wall time: 16.7 s\n"
     ]
    },
    {
     "data": {
      "text/plain": [
       "RandomForestClassifier(max_depth=7, n_estimators=300, n_jobs=-1,\n",
       "                       random_state=10801)"
      ]
     },
     "execution_count": 10,
     "metadata": {},
     "output_type": "execute_result"
    }
   ],
   "source": [
    "%%time\n",
    "rf_model = RandomForestClassifier(n_estimators=300, max_depth=7, n_jobs=-1, random_state=SEED)\n",
    "rf_model.fit(X_train, y_train)"
   ]
  },
  {
   "cell_type": "markdown",
   "metadata": {
    "id": "BnLqXPOSruxW",
    "papermill": {
     "duration": 0.045583,
     "end_time": "2022-02-13T23:28:36.165966",
     "exception": false,
     "start_time": "2022-02-13T23:28:36.120383",
     "status": "completed"
    },
    "tags": []
   },
   "source": [
    "#### Сделаем предсказания и оценим качество на отложенной части данных"
   ]
  },
  {
   "cell_type": "code",
   "execution_count": 10,
   "metadata": {
    "execution": {
     "iopub.execute_input": "2022-02-13T23:28:36.261354Z",
     "iopub.status.busy": "2022-02-13T23:28:36.260637Z",
     "iopub.status.idle": "2022-02-13T23:28:36.574159Z",
     "shell.execute_reply": "2022-02-13T23:28:36.573534Z",
     "shell.execute_reply.started": "2022-02-13T22:55:33.749369Z"
    },
    "id": "N6S-qQzTruxW",
    "papermill": {
     "duration": 0.362593,
     "end_time": "2022-02-13T23:28:36.574368",
     "exception": false,
     "start_time": "2022-02-13T23:28:36.211775",
     "status": "completed"
    },
    "tags": []
   },
   "outputs": [],
   "source": [
    "y_pred = rf_model.predict_proba(X_valid)[:, 1]"
   ]
  },
  {
   "cell_type": "code",
   "execution_count": 11,
   "metadata": {
    "colab": {
     "base_uri": "https://localhost:8080/"
    },
    "execution": {
     "iopub.execute_input": "2022-02-13T23:28:36.672682Z",
     "iopub.status.busy": "2022-02-13T23:28:36.671834Z",
     "iopub.status.idle": "2022-02-13T23:28:36.680646Z",
     "shell.execute_reply": "2022-02-13T23:28:36.680073Z",
     "shell.execute_reply.started": "2022-02-13T22:55:34.515933Z"
    },
    "id": "O_JYeFIrruxX",
    "outputId": "107b8ad9-c5c2-4a20-fb25-fcbb3027ffdc",
    "papermill": {
     "duration": 0.060422,
     "end_time": "2022-02-13T23:28:36.680786",
     "exception": false,
     "start_time": "2022-02-13T23:28:36.620364",
     "status": "completed"
    },
    "tags": []
   },
   "outputs": [
    {
     "name": "stdout",
     "output_type": "stream",
     "text": [
      "ROC-AUC score на отложенной части: 0.7754387258058622\n"
     ]
    }
   ],
   "source": [
    "valid_score = roc_auc_score(y_valid, y_pred)\n",
    "print(\"ROC-AUC score на отложенной части:\", valid_score)"
   ]
  },
  {
   "cell_type": "markdown",
   "metadata": {
    "id": "AjT2fXBmruxY",
    "papermill": {
     "duration": 0.045999,
     "end_time": "2022-02-13T23:28:36.773926",
     "exception": false,
     "start_time": "2022-02-13T23:28:36.727927",
     "status": "completed"
    },
    "tags": []
   },
   "source": [
    "Посмотрим на accuracy:"
   ]
  },
  {
   "cell_type": "code",
   "execution_count": 12,
   "metadata": {
    "colab": {
     "base_uri": "https://localhost:8080/"
    },
    "execution": {
     "iopub.execute_input": "2022-02-13T23:28:36.872122Z",
     "iopub.status.busy": "2022-02-13T23:28:36.871439Z",
     "iopub.status.idle": "2022-02-13T23:28:36.877567Z",
     "shell.execute_reply": "2022-02-13T23:28:36.877051Z",
     "shell.execute_reply.started": "2022-02-13T22:55:46.570239Z"
    },
    "id": "jXtL9qX-ruxZ",
    "outputId": "609f25c0-50ac-443d-f4dc-05552eb02539",
    "papermill": {
     "duration": 0.057673,
     "end_time": "2022-02-13T23:28:36.877714",
     "exception": false,
     "start_time": "2022-02-13T23:28:36.820041",
     "status": "completed"
    },
    "tags": []
   },
   "outputs": [
    {
     "name": "stdout",
     "output_type": "stream",
     "text": [
      "Accuracy score (p > 0.5) на отложенной части: 0.6885383806519453\n"
     ]
    }
   ],
   "source": [
    "valid_accuracy = accuracy_score(y_valid, y_pred > 0.5)\n",
    "print(\"Accuracy score (p > 0.5) на отложенной части:\", valid_accuracy)"
   ]
  },
  {
   "cell_type": "markdown",
   "metadata": {
    "id": "0EpRXVpBruxb",
    "papermill": {
     "duration": 0.046013,
     "end_time": "2022-02-13T23:28:36.970038",
     "exception": false,
     "start_time": "2022-02-13T23:28:36.924025",
     "status": "completed"
    },
    "tags": []
   },
   "source": [
    "## <left>Посылка"
   ]
  },
  {
   "cell_type": "code",
   "execution_count": 11,
   "metadata": {
    "execution": {
     "iopub.execute_input": "2022-02-13T23:28:37.066588Z",
     "iopub.status.busy": "2022-02-13T23:28:37.065534Z",
     "iopub.status.idle": "2022-02-13T23:28:37.589671Z",
     "shell.execute_reply": "2022-02-13T23:28:37.589074Z",
     "shell.execute_reply.started": "2022-02-13T22:55:54.636469Z"
    },
    "id": "pAL7AO25ruxb",
    "papermill": {
     "duration": 0.573434,
     "end_time": "2022-02-13T23:28:37.589831",
     "exception": false,
     "start_time": "2022-02-13T23:28:37.016397",
     "status": "completed"
    },
    "tags": []
   },
   "outputs": [],
   "source": [
    "df_test_features = pd.read_csv(\"test_data.csv\", index_col=\"match_id_hash\")\n",
    "\n",
    "X_test = df_test_features.values\n",
    "y_test_pred = rf_model.predict_proba(X_test)[:, 1]\n",
    "\n",
    "df_submission = pd.DataFrame({\"radiant_win_prob\": y_test_pred}, \n",
    "                                 index=df_test_features.index)"
   ]
  },
  {
   "cell_type": "code",
   "execution_count": 14,
   "metadata": {
    "colab": {
     "base_uri": "https://localhost:8080/"
    },
    "execution": {
     "iopub.execute_input": "2022-02-13T23:28:37.693733Z",
     "iopub.status.busy": "2022-02-13T23:28:37.693041Z",
     "iopub.status.idle": "2022-02-13T23:28:37.732667Z",
     "shell.execute_reply": "2022-02-13T23:28:37.731983Z",
     "shell.execute_reply.started": "2022-02-13T22:55:58.54975Z"
    },
    "id": "wUugNuC2ruxc",
    "outputId": "cf52bf08-a873-45df-fc5f-18854aca0f49",
    "papermill": {
     "duration": 0.09114,
     "end_time": "2022-02-13T23:28:37.732839",
     "exception": false,
     "start_time": "2022-02-13T23:28:37.641699",
     "status": "completed"
    },
    "tags": []
   },
   "outputs": [
    {
     "name": "stdout",
     "output_type": "stream",
     "text": [
      "Файл посылки сохранен, как: submission_2023-04-08_19-28-10.csv\n"
     ]
    }
   ],
   "source": [
    "submission_filename = \"submission_{}.csv\".format(\n",
    "    datetime.datetime.now().strftime(\"%Y-%m-%d_%H-%M-%S\"))\n",
    "df_submission.to_csv(submission_filename)\n",
    "print(\"Файл посылки сохранен, как: {}\".format(submission_filename))"
   ]
  },
  {
   "cell_type": "markdown",
   "metadata": {
    "id": "63g5drgiruxe",
    "papermill": {
     "duration": 0.046122,
     "end_time": "2022-02-13T23:28:37.825794",
     "exception": false,
     "start_time": "2022-02-13T23:28:37.779672",
     "status": "completed"
    },
    "tags": []
   },
   "source": [
    "## <left>Кросс-валидация"
   ]
  },
  {
   "cell_type": "markdown",
   "metadata": {
    "id": "XPeeLWfSruxe",
    "papermill": {
     "duration": 0.047147,
     "end_time": "2022-02-13T23:28:37.919675",
     "exception": false,
     "start_time": "2022-02-13T23:28:37.872528",
     "status": "completed"
    },
    "tags": []
   },
   "source": [
    "Во многих случаях кросс-валидация оказывается лучше простого разбиения на test и train. Воспользуемся `ShuffleSplit` чтобы создать 5 70%/30% наборов данных."
   ]
  },
  {
   "cell_type": "code",
   "execution_count": 9,
   "metadata": {
    "execution": {
     "iopub.execute_input": "2022-02-13T23:28:38.018868Z",
     "iopub.status.busy": "2022-02-13T23:28:38.018165Z",
     "iopub.status.idle": "2022-02-13T23:28:38.02103Z",
     "shell.execute_reply": "2022-02-13T23:28:38.0205Z",
     "shell.execute_reply.started": "2022-02-13T22:56:24.879618Z"
    },
    "id": "Z_juAxK1ruxf",
    "papermill": {
     "duration": 0.054303,
     "end_time": "2022-02-13T23:28:38.021177",
     "exception": false,
     "start_time": "2022-02-13T23:28:37.966874",
     "status": "completed"
    },
    "tags": []
   },
   "outputs": [],
   "source": [
    "cv = ShuffleSplit(n_splits=5, test_size=0.3, random_state=SEED)"
   ]
  },
  {
   "cell_type": "code",
   "execution_count": 16,
   "metadata": {
    "colab": {
     "base_uri": "https://localhost:8080/"
    },
    "execution": {
     "iopub.execute_input": "2022-02-13T23:28:38.124812Z",
     "iopub.status.busy": "2022-02-13T23:28:38.123342Z",
     "iopub.status.idle": "2022-02-13T23:29:32.72041Z",
     "shell.execute_reply": "2022-02-13T23:29:32.720941Z",
     "shell.execute_reply.started": "2022-02-13T22:56:42.398744Z"
    },
    "id": "B7bpFaoUruxf",
    "outputId": "fa531b78-7b2c-49dd-9f0b-ccf8828a9c46",
    "papermill": {
     "duration": 54.652614,
     "end_time": "2022-02-13T23:29:32.721125",
     "exception": false,
     "start_time": "2022-02-13T23:28:38.068511",
     "status": "completed"
    },
    "tags": []
   },
   "outputs": [
    {
     "name": "stdout",
     "output_type": "stream",
     "text": [
      "Wall time: 1min 14s\n"
     ]
    }
   ],
   "source": [
    "%%time\n",
    "rf_model = RandomForestClassifier(n_estimators=300, max_depth=7, n_jobs=-1, random_state=SEED)\n",
    "cv_scores_rf = cross_val_score(rf_model, X, y, cv=cv, scoring=\"roc_auc\")"
   ]
  },
  {
   "cell_type": "code",
   "execution_count": 17,
   "metadata": {
    "colab": {
     "base_uri": "https://localhost:8080/"
    },
    "execution": {
     "iopub.execute_input": "2022-02-13T23:29:32.819094Z",
     "iopub.status.busy": "2022-02-13T23:29:32.818432Z",
     "iopub.status.idle": "2022-02-13T23:29:32.823613Z",
     "shell.execute_reply": "2022-02-13T23:29:32.82424Z",
     "shell.execute_reply.started": "2022-02-13T22:57:33.757348Z"
    },
    "id": "Iwzbn7q9ruxg",
    "outputId": "f54f30e1-b69c-473f-e581-4784539a95ec",
    "papermill": {
     "duration": 0.056037,
     "end_time": "2022-02-13T23:29:32.824411",
     "exception": false,
     "start_time": "2022-02-13T23:29:32.768374",
     "status": "completed"
    },
    "tags": []
   },
   "outputs": [
    {
     "data": {
      "text/plain": [
       "array([0.77543873, 0.77343884, 0.76649967, 0.7722681 , 0.77246001])"
      ]
     },
     "execution_count": 17,
     "metadata": {},
     "output_type": "execute_result"
    }
   ],
   "source": [
    "cv_scores_rf"
   ]
  },
  {
   "cell_type": "code",
   "execution_count": 18,
   "metadata": {
    "colab": {
     "base_uri": "https://localhost:8080/"
    },
    "execution": {
     "iopub.execute_input": "2022-02-13T23:29:32.923448Z",
     "iopub.status.busy": "2022-02-13T23:29:32.922737Z",
     "iopub.status.idle": "2022-02-13T23:29:32.928466Z",
     "shell.execute_reply": "2022-02-13T23:29:32.927601Z",
     "shell.execute_reply.started": "2022-02-13T22:57:38.647385Z"
    },
    "id": "shWGO5aWruxg",
    "outputId": "a05855a1-d307-4e0d-9d7a-55ca1ed5f22c",
    "papermill": {
     "duration": 0.056776,
     "end_time": "2022-02-13T23:29:32.928669",
     "exception": false,
     "start_time": "2022-02-13T23:29:32.871893",
     "status": "completed"
    },
    "tags": []
   },
   "outputs": [
    {
     "name": "stdout",
     "output_type": "stream",
     "text": [
      "Среднее значение ROC-AUC на кросс-валидации: 0.7720210676055513\n"
     ]
    }
   ],
   "source": [
    "print(f\"Среднее значение ROC-AUC на кросс-валидации: {cv_scores_rf.mean()}\")"
   ]
  },
  {
   "cell_type": "markdown",
   "metadata": {
    "id": "p8YxOIjxruxg",
    "papermill": {
     "duration": 0.04757,
     "end_time": "2022-02-13T23:29:33.025145",
     "exception": false,
     "start_time": "2022-02-13T23:29:32.977575",
     "status": "completed"
    },
    "tags": []
   },
   "source": [
    "## <left>Что есть в json файлах?"
   ]
  },
  {
   "cell_type": "markdown",
   "metadata": {
    "id": "YUaXXT0rruxh",
    "papermill": {
     "duration": 0.048776,
     "end_time": "2022-02-13T23:29:33.122475",
     "exception": false,
     "start_time": "2022-02-13T23:29:33.073699",
     "status": "completed"
    },
    "tags": []
   },
   "source": [
    "Описание сырых данных можно найти в `train_matches.jsonl` и `test_matches.jsonl`. Каждый файл содержит одну запись для каждого матча в [JSON](https://en.wikipedia.org/wiki/JSON) формате. Его легко превратить в питоновский объект при помощи метода `json.loads`."
   ]
  },
  {
   "cell_type": "code",
   "execution_count": 77,
   "metadata": {
    "colab": {
     "base_uri": "https://localhost:8080/",
     "height": 244
    },
    "execution": {
     "iopub.execute_input": "2022-02-13T23:29:33.224143Z",
     "iopub.status.busy": "2022-02-13T23:29:33.223346Z",
     "iopub.status.idle": "2022-02-13T23:29:33.684926Z",
     "shell.execute_reply": "2022-02-13T23:29:33.684347Z",
     "shell.execute_reply.started": "2022-02-13T22:57:44.043572Z"
    },
    "id": "LQMhDD8iruxh",
    "outputId": "8f83c2f2-e66e-429e-8a17-360e3c615d6b",
    "papermill": {
     "duration": 0.514659,
     "end_time": "2022-02-13T23:29:33.685074",
     "exception": false,
     "start_time": "2022-02-13T23:29:33.170415",
     "status": "completed"
    },
    "tags": []
   },
   "outputs": [],
   "source": [
    "with open(\"train_raw_data.jsonl\") as fin:\n",
    "    # прочтем 419 строку\n",
    "    for i in range(415):\n",
    "        line = fin.readline()\n",
    "    \n",
    "    # переведем JSON в питоновский словарь \n",
    "    match = json.loads(line)"
   ]
  },
  {
   "cell_type": "code",
   "execution_count": 78,
   "metadata": {
    "execution": {
     "iopub.execute_input": "2022-02-13T23:29:33.789538Z",
     "iopub.status.busy": "2022-02-13T23:29:33.788717Z",
     "iopub.status.idle": "2022-02-13T23:29:33.792009Z",
     "shell.execute_reply": "2022-02-13T23:29:33.792529Z",
     "shell.execute_reply.started": "2022-02-13T22:57:45.161882Z"
    },
    "id": "tpiBhen-ruxh",
    "papermill": {
     "duration": 0.057975,
     "end_time": "2022-02-13T23:29:33.792713",
     "exception": false,
     "start_time": "2022-02-13T23:29:33.734738",
     "status": "completed"
    },
    "tags": []
   },
   "outputs": [
    {
     "data": {
      "text/plain": [
       "(2, 5, 3)"
      ]
     },
     "execution_count": 78,
     "metadata": {},
     "output_type": "execute_result"
    }
   ],
   "source": [
    "player = match[\"players\"][9]\n",
    "player[\"kills\"], player[\"deaths\"], player[\"assists\"]"
   ]
  },
  {
   "cell_type": "markdown",
   "metadata": {
    "id": "_dVG_8TWruxi",
    "papermill": {
     "duration": 0.047795,
     "end_time": "2022-02-13T23:29:33.888962",
     "exception": false,
     "start_time": "2022-02-13T23:29:33.841167",
     "status": "completed"
    },
    "tags": []
   },
   "source": [
    "KDA - может быть неплохим признаком, этот показатель считается как:\n",
    "    \n",
    "<center>$KDA = \\frac{K + A}{D}$"
   ]
  },
  {
   "cell_type": "code",
   "execution_count": 86,
   "metadata": {},
   "outputs": [
    {
     "name": "stdout",
     "output_type": "stream",
     "text": [
      "dict_keys(['game_time', 'match_id_hash', 'teamfights', 'objectives', 'chat', 'game_mode', 'lobby_type', 'players', 'targets'])\n",
      "[{'time': 269.701, 'type': 'CHAT_MESSAGE_FIRSTBLOOD', 'slot': 2, 'key': 6, 'player_slot': 2}, {'time': 718.924, 'type': 'CHAT_MESSAGE_TOWER_DENY', 'team': 60, 'slot': 6, 'player_slot': 129}, {'time': 891.216, 'type': 'CHAT_MESSAGE_TOWER_DENY', 'team': 60, 'slot': 7, 'player_slot': 130}, {'time': 903.746, 'type': 'CHAT_MESSAGE_TOWER_KILL', 'team': 2, 'slot': 1, 'player_slot': 1}, {'time': 1111.162, 'type': 'CHAT_MESSAGE_TOWER_KILL', 'team': 2, 'slot': -1}, {'time': 1337.44, 'type': 'CHAT_MESSAGE_TOWER_KILL', 'team': 2, 'slot': 3, 'player_slot': 3}, {'time': 1390.227, 'type': 'CHAT_MESSAGE_ROSHAN_KILL', 'team': 2}, {'time': 1390.427, 'type': 'CHAT_MESSAGE_AEGIS', 'slot': 3, 'player_slot': 3}, {'time': 1465.476, 'type': 'CHAT_MESSAGE_TOWER_KILL', 'team': 2, 'slot': 3, 'player_slot': 3}, {'time': 1505.599, 'type': 'CHAT_MESSAGE_TOWER_KILL', 'team': 2, 'slot': 0, 'player_slot': 0}, {'time': 1518.596, 'type': 'CHAT_MESSAGE_BARRACKS_KILL', 'key': '16'}, {'time': 1523.395, 'type': 'CHAT_MESSAGE_BARRACKS_KILL', 'key': '32'}]\n"
     ]
    },
    {
     "name": "stdout",
     "output_type": "stream",
     "text": [
      "{'player_slot': 3, 'hero_id': 93, 'hero_name': 'npc_dota_hero_slark', 'account_id_hash': '736d53353484cbd6166e0f0b4847136a', 'ability_upgrades': [{'ability': 5496, 'time': 364, 'level': 1}, {'ability': 5495, 'time': 399, 'level': 2}, {'ability': 5494, 'time': 444, 'level': 3}, {'ability': 5494, 'time': 533, 'level': 4}, {'ability': 5494, 'time': 600, 'level': 5}, {'ability': 5497, 'time': 663, 'level': 6}, {'ability': 5494, 'time': 780, 'level': 7}, {'ability': 5495, 'time': 871, 'level': 8}, {'ability': 5495, 'time': 976, 'level': 9}, {'ability': 6029, 'time': 1101, 'level': 10}, {'ability': 5495, 'time': 1184, 'level': 11}, {'ability': 5497, 'time': 1245, 'level': 12}, {'ability': 5496, 'time': 1314, 'level': 13}, {'ability': 5496, 'time': 1382, 'level': 14}, {'ability': 5907, 'time': 1470, 'level': 15}], 'obs_placed': 0, 'sen_placed': 1, 'creeps_stacked': 1, 'camps_stacked': 1, 'rune_pickups': 7, 'firstblood_claimed': 0, 'teamfight_participation': 0.594, 'towers_killed': 2, 'roshans_killed': 1, 'observers_placed': 0, 'stuns': 0, 'max_hero_hit': {'type': 'max_hero_hit', 'time': 1198.641, 'max': True, 'inflictor': None, 'unit': 'npc_dota_hero_slark', 'key': 'npc_dota_hero_zuus', 'value': 299, 'slot': 3, 'player_slot': 3}, 'times': [0, 60, 120, 180, 240, 300, 360, 420, 480, 540, 600, 660, 720, 780, 840, 900, 960, 1020, 1080, 1140, 1200, 1260, 1320, 1380, 1440, 1500], 'gold_t': [41, 307, 659, 903, 1290, 1733, 2256, 2710, 3357, 3825, 4236, 4769, 5274, 5763, 6303, 7339, 8259, 9019, 9853, 10621, 11443, 12361, 13158, 14081, 15017, 16338], 'lh_t': [0, 4, 10, 13, 20, 28, 37, 43, 51, 55, 62, 70, 78, 84, 94, 97, 117, 126, 135, 145, 158, 164, 178, 182, 192, 198], 'dn_t': [0, 2, 4, 6, 13, 19, 22, 24, 28, 29, 30, 32, 33, 36, 37, 37, 39, 39, 39, 41, 41, 41, 41, 41, 41, 41], 'xp_t': [0, 161, 597, 958, 1283, 1919, 2402, 2596, 3193, 3587, 3840, 4283, 4583, 5075, 5574, 6576, 7547, 8215, 9429, 10032, 10960, 12245, 13129, 13770, 14529, 15937], 'obs_log': [], 'sen_log': [{'time': 989.392, 'tick': 40182, 'type': 'sen_log', 'key': '[166, 120]', 'slot': 3, 'x': 166, 'y': 120, 'z': 132, 'entityleft': False, 'ehandle': 33832, 'player_slot': 3}], 'obs_left_log': [], 'sen_left_log': [{'time': 1243.13, 'tick': 47796, 'type': 'sen_left_log', 'key': '[166, 120]', 'slot': 3, 'x': 166, 'y': 120, 'z': 132, 'entityleft': True, 'ehandle': 33832, 'player_slot': 3}], 'purchase_log': [{'time': -89.957, 'key': 'stout_shield'}, {'time': -89.957, 'key': 'branches'}, {'time': -89.957, 'key': 'tango'}, {'time': -89.957, 'key': 'branches'}, {'time': -89.957, 'key': 'enchanted_mango'}, {'time': -89.957, 'key': 'tpscroll'}, {'time': 57.086, 'key': 'magic_wand'}, {'time': 57.086, 'key': 'magic_stick'}, {'time': 101.109, 'key': 'circlet'}, {'time': 101.209, 'key': 'slippers'}, {'time': 129.335, 'key': 'wraith_band'}, {'time': 205.017, 'key': 'sobi_mask'}, {'time': 237.942, 'key': 'ring_of_basilius'}, {'time': 237.942, 'key': 'ring_of_aquila'}, {'time': 237.942, 'key': 'ring_of_protection'}, {'time': 295.694, 'key': 'boots'}, {'time': 365.911, 'key': 'gloves'}, {'time': 414.665, 'key': 'power_treads'}, {'time': 414.665, 'key': 'belt_of_strength'}, {'time': 581.058, 'key': 'claymore'}, {'time': 725.823, 'key': 'invis_sword'}, {'time': 725.823, 'key': 'shadow_amulet'}, {'time': 843.661, 'key': 'ogre_axe'}, {'time': 845.627, 'key': 'quarterstaff'}, {'time': 881.685, 'key': 'sobi_mask'}, {'time': 881.818, 'key': 'oblivion_staff'}, {'time': 881.818, 'key': 'robe'}, {'time': 883.284, 'key': 'tpscroll'}, {'time': 916.976, 'key': 'ward_sentry'}, {'time': 918.409, 'key': 'tpscroll'}, {'time': 959.632, 'key': 'echo_sabre'}, {'time': 959.632, 'key': 'ogre_axe'}, {'time': 1117.827, 'key': 'ultimate_orb'}, {'time': 1251.061, 'key': 'ultimate_orb'}, {'time': 1348.637, 'key': 'skadi'}, {'time': 1348.637, 'key': 'point_booster'}], 'kills_log': [{'time': 424.163, 'key': 'npc_dota_hero_abyssal_underlord'}, {'time': 498.578, 'key': 'npc_dota_hero_abyssal_underlord'}, {'time': 862.056, 'key': 'npc_dota_hero_shadow_shaman'}, {'time': 868.721, 'key': 'npc_dota_hero_zuus'}, {'time': 876.253, 'key': 'npc_dota_hero_abyssal_underlord'}, {'time': 1061.741, 'key': 'npc_dota_hero_zuus'}, {'time': 1148.053, 'key': 'npc_dota_hero_alchemist'}, {'time': 1200.84, 'key': 'npc_dota_hero_zuus'}, {'time': 1234.332, 'key': 'npc_dota_hero_shadow_shaman'}, {'time': 1235.365, 'key': 'npc_dota_hero_pudge'}, {'time': 1325.443, 'key': 'npc_dota_hero_abyssal_underlord'}, {'time': 1475.906, 'key': 'npc_dota_hero_shadow_shaman'}, {'time': 1493.869, 'key': 'npc_dota_hero_zuus'}, {'time': 1502.833, 'key': 'npc_dota_hero_abyssal_underlord'}, {'time': 1536.791, 'key': 'npc_dota_hero_pudge'}, {'time': 1539.624, 'key': 'npc_dota_hero_shadow_shaman'}, {'time': 1541.59, 'key': 'npc_dota_hero_zuus'}], 'buyback_log': [], 'runes_log': [{'time': 0.367, 'key': 5}, {'time': 374.475, 'key': 5}, {'time': 739.253, 'key': 5}, {'time': 969.597, 'key': 5}, {'time': 974.395, 'key': 5}, {'time': 1217.003, 'key': 1}, {'time': 1360.701, 'key': 0}], 'obs': {}, 'sen': {'166': {'120': 1}}, 'actions': {'1': 3301, '2': 49, '3': 78, '4': 1164, '5': 1, '6': 1, '7': 3, '8': 102, '9': 2, '10': 96, '11': 15, '14': 2, '15': 12, '16': 28, '17': 2, '19': 15, '33': 96}, 'pings': {'0': 34}, 'purchase': {'stout_shield': 1, 'branches': 2, 'tango': 1, 'enchanted_mango': 1, 'tpscroll': 3, 'magic_wand': 1, 'magic_stick': 1, 'circlet': 1, 'slippers': 1, 'wraith_band': 1, 'recipe_wraith_band': 1, 'sobi_mask': 2, 'ring_of_basilius': 1, 'ring_of_aquila': 1, 'ring_of_protection': 1, 'boots': 1, 'gloves': 1, 'power_treads': 1, 'belt_of_strength': 1, 'claymore': 1, 'invis_sword': 1, 'shadow_amulet': 1, 'ogre_axe': 2, 'quarterstaff': 1, 'oblivion_staff': 1, 'robe': 1, 'ward_sentry': 1, 'echo_sabre': 1, 'ultimate_orb': 2, 'skadi': 1, 'point_booster': 1}, 'gold_reasons': {'0': 1278, '6': 1200, '11': 2005, '12': 4562, '13': 8282, '14': 434}, 'xp_reasons': {'0': 173, '1': 8011, '2': 10235, '3': 427}, 'killed': {'npc_dota_creep_badguys_melee': 12790, 'npc_dota_creep_goodguys_melee': 2715, 'npc_dota_creep_badguys_ranged': 4535, 'npc_dota_creep_goodguys_ranged': 710, 'npc_dota_hero_abyssal_underlord': 240, 'npc_dota_badguys_siege': 220, 'npc_dota_neutral_polar_furbolg_ursa_warrior': 86, 'npc_dota_neutral_polar_furbolg_champion': 86, 'npc_dota_shadow_shaman_ward_1': 3, 'npc_dota_hero_shadow_shaman': 430, 'npc_dota_hero_zuus': 443, 'npc_dota_neutral_dark_troll_warlord': 129, 'npc_dota_neutral_dark_troll': 271, 'npc_dota_neutral_kobold': 90, 'npc_dota_neutral_kobold_taskmaster': 30, 'npc_dota_neutral_kobold_tunneler': 30, 'npc_dota_sentry_wards': 4, 'npc_dota_observer_wards': 4, 'npc_dota_hero_alchemist': 23, 'npc_dota_neutral_enraged_wildkin': 31, 'npc_dota_neutral_wildkin': 359, 'npc_dota_neutral_mud_golem': 394, 'npc_dota_neutral_mud_golem_split': 788, 'npc_dota_neutral_black_drake': 195, 'npc_dota_neutral_black_dragon': 139, 'npc_dota_hero_pudge': 349, 'npc_dota_neutral_satyr_soulstealer': 391, 'npc_dota_neutral_satyr_trickster': 404, 'npc_dota_badguys_tower2_mid': 40, 'npc_dota_roshan': 156, 'npc_dota_badguys_tower2_top': 38, 'npc_dota_badguys_melee_rax_top': 69}, 'item_uses': {'tango': 3, 'ring_of_aquila': 2, 'flask': 1, 'power_treads': 2, 'invis_sword': 13, 'magic_wand': 2, 'ward_sentry': 1}, 'ability_uses': {'slark_dark_pact': 44, 'slark_pounce': 21, 'slark_shadow_dance': 3}, 'hero_hits': {'null': 131, 'slark_dark_pact': 670, 'slark_pounce': 16}, 'damage': {'npc_dota_creep_badguys_melee': 42933, 'npc_dota_creep_goodguys_melee': 4684, 'npc_dota_creep_badguys_ranged': 11268, 'npc_dota_hero_abyssal_underlord': 6952, 'npc_dota_creep_goodguys_ranged': 794, 'npc_dota_hero_slark': 4460, 'npc_dota_badguys_siege': 2060, 'npc_dota_hero_shadow_shaman': 4114, 'npc_dota_badguys_tower1_bot': 91, 'npc_dota_hero_pudge': 2310, 'npc_dota_neutral_polar_furbolg_ursa_warrior': 993, 'npc_dota_neutral_polar_furbolg_champion': 507, 'npc_dota_shadow_shaman_ward_1': 3, 'npc_dota_hero_zuus': 4683, 'npc_dota_hero_alchemist': 2707, 'npc_dota_neutral_dark_troll_warlord': 1211, 'npc_dota_neutral_dark_troll': 1143, 'npc_dota_neutral_kobold_taskmaster': 410, 'npc_dota_neutral_kobold': 741, 'npc_dota_neutral_kobold_tunneler': 343, 'npc_dota_sentry_wards': 4, 'npc_dota_observer_wards': 4, 'npc_dota_badguys_tower2_bot': 452, 'npc_dota_neutral_enraged_wildkin': 974, 'npc_dota_neutral_wildkin': 979, 'npc_dota_neutral_mud_golem': 1971, 'npc_dota_neutral_mud_golem_split': 1580, 'npc_dota_neutral_black_dragon': 2096, 'npc_dota_neutral_black_drake': 2081, 'npc_dota_neutral_satyr_hellcaller': 715, 'npc_dota_neutral_satyr_trickster': 806, 'npc_dota_neutral_satyr_soulstealer': 1353, 'npc_dota_badguys_tower2_mid': 742, 'npc_dota_roshan': 6100, 'npc_dota_badguys_tower2_top': 625, 'npc_dota_badguys_melee_rax_top': 1048, 'npc_dota_badguys_range_rax_top': 236}, 'damage_taken': {'npc_dota_creep_badguys_ranged': 771, 'npc_dota_creep_badguys_melee': 1549, 'npc_dota_hero_abyssal_underlord': 4325, 'npc_dota_badguys_tower1_bot': 1928, 'npc_dota_hero_slark': 4460, 'npc_dota_hero_shadow_shaman': 1918, 'npc_dota_hero_pudge': 1606, 'npc_dota_hero_zuus': 3617, 'npc_dota_neutral_polar_furbolg_ursa_warrior': 165, 'npc_dota_neutral_polar_furbolg_champion': 167, 'npc_dota_hero_alchemist': 1019, 'npc_dota_neutral_dark_troll': 56, 'npc_dota_neutral_dark_troll_warlord': 82, 'npc_dota_neutral_kobold': 15, 'npc_dota_neutral_kobold_tunneler': 12, 'npc_dota_badguys_tower2_bot': 793, 'npc_dota_badguys_tower3_bot': 226, 'npc_dota_neutral_enraged_wildkin': 53, 'npc_dota_neutral_wildkin': 32, 'npc_dota_neutral_mud_golem': 64, 'npc_dota_neutral_mud_golem_split': 27, 'npc_dota_neutral_black_dragon': 251, 'npc_dota_neutral_black_drake': 86, 'npc_dota_neutral_satyr_trickster': 11, 'npc_dota_neutral_satyr_hellcaller': 83, 'npc_dota_neutral_satyr_soulstealer': 64, 'npc_dota_badguys_tower2_mid': 282, 'npc_dota_roshan': 573, 'npc_dota_badguys_tower2_top': 823, 'npc_dota_badguys_tower3_top': 122, 'npc_dota_badguys_tower4': 891}, 'damage_inflictor': {'null': 14691, 'slark_dark_pact': 4698, 'slark_pounce': 1377}, 'runes': {'0': 1, '1': 1, '5': 5}, 'killed_by': {}, 'kill_streaks': {'3': 1, '4': 1, '5': 1, '6': 1, '7': 1, '8': 1, '9': 1, '10': 1, '11': 1, '12': 1, '13': 1, '14': 1, '15': 1, '16': 1, '17': 1}, 'multi_kills': {'2': 4, '3': 3}, 'life_state': {'0': 3098}, 'healing': {'npc_dota_hero_slark': 740}, 'damage_inflictor_received': {'abyssal_underlord_firestorm': 3946, 'null': 956, 'shadow_shaman_ether_shock': 1095, 'shadow_shaman_shackles': 22, 'pudge_rot': 968, 'zuus_thundergods_wrath': 521, 'zuus_static_field': 674, 'zuus_lightning_bolt': 1623, 'zuus_arc_lightning': 741, 'alchemist_unstable_concoction_throw': 227, 'bfury': 143, 'alchemist_acid_spray': 199, 'pudge_dismember': 119, 'pudge_meat_hook': 367, 'urn_of_shadows': 152}, 'randomed': False, 'pred_vict': False, 'gold': 18308, 'lh': 199, 'xp': 18838, 'x': 152, 'y': 172, 'hero_inventory': [{'id': 'item_power_treads', 'cooldown': 0, 'stat': 2}, {'id': 'item_skadi', 'cooldown': 0}, {'id': 'item_invis_sword', 'cooldown': 0}, {'id': 'item_echo_sabre', 'cooldown': 0}, {'id': 'item_ring_of_aquila', 'cooldown': 0}, {'id': 'item_aegis', 'cooldown': 0}], 'hero_stash': [], 'health': 362, 'max_health': 2345, 'max_mana': 1380.939, 'level': 21, 'kills': 17, 'deaths': 0, 'assists': 2, 'denies': 41, 'nearby_creep_death_count': 302}\n"
     ]
    }
   ],
   "source": [
    "print(match.keys())\n",
    "print(match['objectives'])\n",
    "print(match[\"players\"][3])"
   ]
  },
  {
   "cell_type": "code",
   "execution_count": 25,
   "metadata": {},
   "outputs": [
    {
     "name": "stdout",
     "output_type": "stream",
     "text": [
      "game_time\n",
      "game_mode\n",
      "lobby_type\n",
      "objectives_len\n",
      "chat_len\n",
      "r1_hero_id\n",
      "r1_kills\n",
      "r1_deaths\n",
      "r1_assists\n",
      "r1_denies\n",
      "r1_gold\n",
      "r1_lh\n",
      "r1_xp\n",
      "r1_health\n",
      "r1_max_health\n",
      "r1_max_mana\n",
      "r1_level\n",
      "r1_x\n",
      "r1_y\n",
      "r1_stuns\n",
      "r1_creeps_stacked\n",
      "r1_camps_stacked\n",
      "r1_rune_pickups\n",
      "r1_firstblood_claimed\n",
      "r1_teamfight_participation\n",
      "r1_towers_killed\n",
      "r1_roshans_killed\n",
      "r1_obs_placed\n",
      "r1_sen_placed\n",
      "r2_hero_id\n",
      "r2_kills\n",
      "r2_deaths\n",
      "r2_assists\n",
      "r2_denies\n",
      "r2_gold\n",
      "r2_lh\n",
      "r2_xp\n",
      "r2_health\n",
      "r2_max_health\n",
      "r2_max_mana\n",
      "r2_level\n",
      "r2_x\n",
      "r2_y\n",
      "r2_stuns\n",
      "r2_creeps_stacked\n",
      "r2_camps_stacked\n",
      "r2_rune_pickups\n",
      "r2_firstblood_claimed\n",
      "r2_teamfight_participation\n",
      "r2_towers_killed\n",
      "r2_roshans_killed\n",
      "r2_obs_placed\n",
      "r2_sen_placed\n",
      "r3_hero_id\n",
      "r3_kills\n",
      "r3_deaths\n",
      "r3_assists\n",
      "r3_denies\n",
      "r3_gold\n",
      "r3_lh\n",
      "r3_xp\n",
      "r3_health\n",
      "r3_max_health\n",
      "r3_max_mana\n",
      "r3_level\n",
      "r3_x\n",
      "r3_y\n",
      "r3_stuns\n",
      "r3_creeps_stacked\n",
      "r3_camps_stacked\n",
      "r3_rune_pickups\n",
      "r3_firstblood_claimed\n",
      "r3_teamfight_participation\n",
      "r3_towers_killed\n",
      "r3_roshans_killed\n",
      "r3_obs_placed\n",
      "r3_sen_placed\n",
      "r4_hero_id\n",
      "r4_kills\n",
      "r4_deaths\n",
      "r4_assists\n",
      "r4_denies\n",
      "r4_gold\n",
      "r4_lh\n",
      "r4_xp\n",
      "r4_health\n",
      "r4_max_health\n",
      "r4_max_mana\n",
      "r4_level\n",
      "r4_x\n",
      "r4_y\n",
      "r4_stuns\n",
      "r4_creeps_stacked\n",
      "r4_camps_stacked\n",
      "r4_rune_pickups\n",
      "r4_firstblood_claimed\n",
      "r4_teamfight_participation\n",
      "r4_towers_killed\n",
      "r4_roshans_killed\n",
      "r4_obs_placed\n",
      "r4_sen_placed\n",
      "r5_hero_id\n",
      "r5_kills\n",
      "r5_deaths\n",
      "r5_assists\n",
      "r5_denies\n",
      "r5_gold\n",
      "r5_lh\n",
      "r5_xp\n",
      "r5_health\n",
      "r5_max_health\n",
      "r5_max_mana\n",
      "r5_level\n",
      "r5_x\n",
      "r5_y\n",
      "r5_stuns\n",
      "r5_creeps_stacked\n",
      "r5_camps_stacked\n",
      "r5_rune_pickups\n",
      "r5_firstblood_claimed\n",
      "r5_teamfight_participation\n",
      "r5_towers_killed\n",
      "r5_roshans_killed\n",
      "r5_obs_placed\n",
      "r5_sen_placed\n",
      "d1_hero_id\n",
      "d1_kills\n",
      "d1_deaths\n",
      "d1_assists\n",
      "d1_denies\n",
      "d1_gold\n",
      "d1_lh\n",
      "d1_xp\n",
      "d1_health\n",
      "d1_max_health\n",
      "d1_max_mana\n",
      "d1_level\n",
      "d1_x\n",
      "d1_y\n",
      "d1_stuns\n",
      "d1_creeps_stacked\n",
      "d1_camps_stacked\n",
      "d1_rune_pickups\n",
      "d1_firstblood_claimed\n",
      "d1_teamfight_participation\n",
      "d1_towers_killed\n",
      "d1_roshans_killed\n",
      "d1_obs_placed\n",
      "d1_sen_placed\n",
      "d2_hero_id\n",
      "d2_kills\n",
      "d2_deaths\n",
      "d2_assists\n",
      "d2_denies\n",
      "d2_gold\n",
      "d2_lh\n",
      "d2_xp\n",
      "d2_health\n",
      "d2_max_health\n",
      "d2_max_mana\n",
      "d2_level\n",
      "d2_x\n",
      "d2_y\n",
      "d2_stuns\n",
      "d2_creeps_stacked\n",
      "d2_camps_stacked\n",
      "d2_rune_pickups\n",
      "d2_firstblood_claimed\n",
      "d2_teamfight_participation\n",
      "d2_towers_killed\n",
      "d2_roshans_killed\n",
      "d2_obs_placed\n",
      "d2_sen_placed\n",
      "d3_hero_id\n",
      "d3_kills\n",
      "d3_deaths\n",
      "d3_assists\n",
      "d3_denies\n",
      "d3_gold\n",
      "d3_lh\n",
      "d3_xp\n",
      "d3_health\n",
      "d3_max_health\n",
      "d3_max_mana\n",
      "d3_level\n",
      "d3_x\n",
      "d3_y\n",
      "d3_stuns\n",
      "d3_creeps_stacked\n",
      "d3_camps_stacked\n",
      "d3_rune_pickups\n",
      "d3_firstblood_claimed\n",
      "d3_teamfight_participation\n",
      "d3_towers_killed\n",
      "d3_roshans_killed\n",
      "d3_obs_placed\n",
      "d3_sen_placed\n",
      "d4_hero_id\n",
      "d4_kills\n",
      "d4_deaths\n",
      "d4_assists\n",
      "d4_denies\n",
      "d4_gold\n",
      "d4_lh\n",
      "d4_xp\n",
      "d4_health\n",
      "d4_max_health\n",
      "d4_max_mana\n",
      "d4_level\n",
      "d4_x\n",
      "d4_y\n",
      "d4_stuns\n",
      "d4_creeps_stacked\n",
      "d4_camps_stacked\n",
      "d4_rune_pickups\n",
      "d4_firstblood_claimed\n",
      "d4_teamfight_participation\n",
      "d4_towers_killed\n",
      "d4_roshans_killed\n",
      "d4_obs_placed\n",
      "d4_sen_placed\n",
      "d5_hero_id\n",
      "d5_kills\n",
      "d5_deaths\n",
      "d5_assists\n",
      "d5_denies\n",
      "d5_gold\n",
      "d5_lh\n",
      "d5_xp\n",
      "d5_health\n",
      "d5_max_health\n",
      "d5_max_mana\n",
      "d5_level\n",
      "d5_x\n",
      "d5_y\n",
      "d5_stuns\n",
      "d5_creeps_stacked\n",
      "d5_camps_stacked\n",
      "d5_rune_pickups\n",
      "d5_firstblood_claimed\n",
      "d5_teamfight_participation\n",
      "d5_towers_killed\n",
      "d5_roshans_killed\n",
      "d5_obs_placed\n",
      "d5_sen_placed\n"
     ]
    }
   ],
   "source": [
    "for col in df_test_features:\n",
    "    print(col)"
   ]
  },
  {
   "cell_type": "markdown",
   "metadata": {
    "id": "dhvdXBcCruxi",
    "papermill": {
     "duration": 0.047726,
     "end_time": "2022-02-13T23:29:33.984909",
     "exception": false,
     "start_time": "2022-02-13T23:29:33.937183",
     "status": "completed"
    },
    "tags": []
   },
   "source": [
    "Информация о количестве использованных способностей:"
   ]
  },
  {
   "cell_type": "code",
   "execution_count": 21,
   "metadata": {
    "execution": {
     "iopub.execute_input": "2022-02-13T23:29:34.08846Z",
     "iopub.status.busy": "2022-02-13T23:29:34.087529Z",
     "iopub.status.idle": "2022-02-13T23:29:34.091718Z",
     "shell.execute_reply": "2022-02-13T23:29:34.091168Z",
     "shell.execute_reply.started": "2022-02-13T22:57:47.094707Z"
    },
    "id": "qX3sMg5iruxj",
    "papermill": {
     "duration": 0.058567,
     "end_time": "2022-02-13T23:29:34.091868",
     "exception": false,
     "start_time": "2022-02-13T23:29:34.033301",
     "status": "completed"
    },
    "tags": []
   },
   "outputs": [
    {
     "data": {
      "text/plain": [
       "{'treant_living_armor': 52, 'treant_leech_seed': 5, 'treant_overgrowth': 5}"
      ]
     },
     "execution_count": 21,
     "metadata": {},
     "output_type": "execute_result"
    }
   ],
   "source": [
    "player[\"ability_uses\"]"
   ]
  },
  {
   "cell_type": "code",
   "execution_count": 22,
   "metadata": {
    "execution": {
     "iopub.execute_input": "2022-02-13T23:29:34.201476Z",
     "iopub.status.busy": "2022-02-13T23:29:34.200495Z",
     "iopub.status.idle": "2022-02-13T23:29:34.636952Z",
     "shell.execute_reply": "2022-02-13T23:29:34.637463Z",
     "shell.execute_reply.started": "2022-02-13T22:57:52.249048Z"
    },
    "id": "aD5rwbg3ruxj",
    "papermill": {
     "duration": 0.497079,
     "end_time": "2022-02-13T23:29:34.637657",
     "exception": false,
     "start_time": "2022-02-13T23:29:34.140578",
     "status": "completed"
    },
    "tags": []
   },
   "outputs": [
    {
     "data": {
      "image/png": "[encoded data removed]",
      "text/plain": [
       "<Figure size 864x576 with 1 Axes>"
      ]
     },
     "metadata": {},
     "output_type": "display_data"
    }
   ],
   "source": [
    "for i, player in enumerate(match[\"players\"]):\n",
    "    plt.plot(player[\"times\"], player[\"xp_t\"], label=str(i+1))\n",
    "\n",
    "plt.legend()\n",
    "plt.xlabel(\"Time, s\")\n",
    "plt.ylabel(\"XP\")\n",
    "plt.title(\"XP change for all players\");"
   ]
  },
  {
   "cell_type": "markdown",
   "metadata": {
    "id": "KjLDVMkoruxj",
    "papermill": {
     "duration": 0.052753,
     "end_time": "2022-02-13T23:29:34.742623",
     "exception": false,
     "start_time": "2022-02-13T23:29:34.68987",
     "status": "completed"
    },
    "tags": []
   },
   "source": [
    "#### Сделаем чтение файла с сырыми данными и добавление новых признаков удобным"
   ]
  },
  {
   "cell_type": "markdown",
   "metadata": {
    "id": "uS2198L_ruxk",
    "papermill": {
     "duration": 0.051195,
     "end_time": "2022-02-13T23:29:34.845611",
     "exception": false,
     "start_time": "2022-02-13T23:29:34.794416",
     "status": "completed"
    },
    "tags": []
   },
   "source": [
    "В этот раз для чтение `json` файлов лучше использовать библиотеку `ujson`, иначе все будет слишком долго :("
   ]
  },
  {
   "cell_type": "code",
   "execution_count": 10,
   "metadata": {
    "execution": {
     "iopub.execute_input": "2022-02-13T23:29:34.952234Z",
     "iopub.status.busy": "2022-02-13T23:29:34.951534Z",
     "iopub.status.idle": "2022-02-13T23:29:34.966771Z",
     "shell.execute_reply": "2022-02-13T23:29:34.966081Z",
     "shell.execute_reply.started": "2022-02-13T22:57:54.823795Z"
    },
    "id": "0NMQhMnbruxk",
    "papermill": {
     "duration": 0.069503,
     "end_time": "2022-02-13T23:29:34.966941",
     "exception": false,
     "start_time": "2022-02-13T23:29:34.897438",
     "status": "completed"
    },
    "tags": []
   },
   "outputs": [],
   "source": [
    "try:\n",
    "    import ujson as json\n",
    "except ModuleNotFoundError:\n",
    "    import json\n",
    "    print (\"Подумайте об установке ujson, чтобы работать с JSON объектами быстрее\")\n",
    "    \n",
    "try:\n",
    "    from tqdm.notebook import tqdm\n",
    "except ModuleNotFoundError:\n",
    "    tqdm_notebook = lambda x: x\n",
    "    print (\"Подумайте об установке tqdm, чтобы следить за прогрессом\")\n",
    "\n",
    "    \n",
    "def read_matches(matches_file, total_matches=31698, n_matches_to_read=None):\n",
    "    \"\"\"\n",
    "    Аргуент\n",
    "    -------\n",
    "    matches_file: JSON файл с сырыми данными\n",
    "    \n",
    "    Результат\n",
    "    ---------\n",
    "    Возвращает записи о каждом матче\n",
    "    \"\"\"\n",
    "    \n",
    "    if n_matches_to_read is None:\n",
    "        n_matches_to_read = total_matches\n",
    "        \n",
    "    c = 0\n",
    "    with open(matches_file) as fin:\n",
    "        for line in tqdm(fin, total=total_matches):\n",
    "            if c >= n_matches_to_read:\n",
    "                break\n",
    "            else:\n",
    "                c += 1\n",
    "                yield json.loads(line)"
   ]
  },
  {
   "cell_type": "markdown",
   "metadata": {
    "id": "rGDNbRZCruxl",
    "papermill": {
     "duration": 0.052275,
     "end_time": "2022-02-13T23:29:35.07086",
     "exception": false,
     "start_time": "2022-02-13T23:29:35.018585",
     "status": "completed"
    },
    "tags": []
   },
   "source": [
    "#### Чтение данных в цикле\n",
    "\n",
    "Чтение всех данных занимает 1-2 минуты, поэтому для начала можно попробовать следующее:\n",
    "\n",
    "1. Читать 10-50 игр\n",
    "2. Написать код для работы с этими JSON объектами\n",
    "3. Убедиться, что все работает\n",
    "4. Запустить код на всем датасете\n",
    "5. Сохранить результат в `pickle` файл, чтобы в следующий раз не переделывать все заново"
   ]
  },
  {
   "cell_type": "markdown",
   "metadata": {
    "id": "dhu1zPjEruxm",
    "papermill": {
     "duration": 0.051565,
     "end_time": "2022-02-13T23:29:35.175139",
     "exception": false,
     "start_time": "2022-02-13T23:29:35.123574",
     "status": "completed"
    },
    "tags": []
   },
   "source": [
    "## <left>Feature engineering"
   ]
  },
  {
   "cell_type": "markdown",
   "metadata": {
    "id": "iIE4W2brruxn",
    "papermill": {
     "duration": 0.051315,
     "end_time": "2022-02-13T23:29:35.278664",
     "exception": false,
     "start_time": "2022-02-13T23:29:35.227349",
     "status": "completed"
    },
    "tags": []
   },
   "source": [
    "Напишем функцию, которая поможет нам легче добавлять новые признаки."
   ]
  },
  {
   "cell_type": "code",
   "execution_count": 14,
   "metadata": {
    "execution": {
     "iopub.execute_input": "2022-02-13T23:29:35.392115Z",
     "iopub.status.busy": "2022-02-13T23:29:35.39136Z",
     "iopub.status.idle": "2022-02-13T23:29:35.393224Z",
     "shell.execute_reply": "2022-02-13T23:29:35.393803Z",
     "shell.execute_reply.started": "2022-02-13T22:57:58.423089Z"
    },
    "id": "NvQqVKCkruxo",
    "papermill": {
     "duration": 0.063047,
     "end_time": "2022-02-13T23:29:35.393977",
     "exception": false,
     "start_time": "2022-02-13T23:29:35.33093",
     "status": "completed"
    },
    "tags": []
   },
   "outputs": [],
   "source": [
    "def add_new_features(df_features, matches_file):\n",
    "    \"\"\"\n",
    "    Аргуенты\n",
    "    -------\n",
    "    df_features: таблица с данными\n",
    "    matches_file: JSON файл с сырыми данными\n",
    "    \n",
    "    Результат\n",
    "    ---------\n",
    "    Добавляет новые признаки в таблицу\n",
    "    \"\"\"\n",
    "    \n",
    "    for match in read_matches(matches_file):\n",
    "        match_id_hash = match['match_id_hash']\n",
    "\n",
    "        # Посчитаем количество разрушенных вышек обеими командами\n",
    "        radiant_tower_kills = 0\n",
    "        dire_tower_kills = 0\n",
    "        for objective in match[\"objectives\"]:\n",
    "            if objective[\"type\"] == \"CHAT_MESSAGE_TOWER_KILL\":\n",
    "                if objective[\"team\"] == 2:\n",
    "                    radiant_tower_kills += 1\n",
    "                if objective[\"team\"] == 3:\n",
    "                    dire_tower_kills += 1\n",
    "\n",
    "        df_features.loc[match_id_hash, \"radiant_tower_kills\"] = radiant_tower_kills\n",
    "        df_features.loc[match_id_hash, \"dire_tower_kills\"] = dire_tower_kills\n",
    "        df_features.loc[match_id_hash, \"diff_tower_kills\"] = radiant_tower_kills - dire_tower_kills\n",
    "        \n",
    "        # ... (/¯◡ ‿ ◡)/¯☆*:・ﾟ добавляем новые признаки ..."
   ]
  },
  {
   "cell_type": "code",
   "execution_count": 15,
   "metadata": {
    "execution": {
     "iopub.execute_input": "2022-02-13T23:29:35.500607Z",
     "iopub.status.busy": "2022-02-13T23:29:35.499947Z",
     "iopub.status.idle": "2022-02-13T23:31:15.695377Z",
     "shell.execute_reply": "2022-02-13T23:31:15.695887Z",
     "shell.execute_reply.started": "2022-02-13T22:58:02.08187Z"
    },
    "id": "cahQaQ_Oruxp",
    "papermill": {
     "duration": 100.250385,
     "end_time": "2022-02-13T23:31:15.696073",
     "exception": false,
     "start_time": "2022-02-13T23:29:35.445688",
     "status": "completed"
    },
    "tags": []
   },
   "outputs": [
    {
     "data": {
      "application/vnd.jupyter.widget-view+json": {
       "model_id": "3b2c3841b3674264ae1d6feae415a3af",
       "version_major": 2,
       "version_minor": 0
      },
      "text/plain": [
       "HBox(children=(IntProgress(value=0, max=31698), HTML(value='')))"
      ]
     },
     "metadata": {},
     "output_type": "display_data"
    },
    {
     "name": "stdout",
     "output_type": "stream",
     "text": [
      "\n"
     ]
    }
   ],
   "source": [
    "# Скопируем таблицу с признаками \n",
    "df_train_features_extended = df_train_features.copy()\n",
    "\n",
    "# Добавим новые\n",
    "add_new_features(df_train_features_extended, \"train_raw_data.jsonl\")"
   ]
  },
  {
   "cell_type": "code",
   "execution_count": 30,
   "metadata": {
    "execution": {
     "iopub.execute_input": "2022-02-13T23:31:15.806982Z",
     "iopub.status.busy": "2022-02-13T23:31:15.805915Z",
     "iopub.status.idle": "2022-02-13T23:31:15.829554Z",
     "shell.execute_reply": "2022-02-13T23:31:15.830087Z",
     "shell.execute_reply.started": "2022-02-13T23:00:24.658661Z"
    },
    "id": "qbE8A-fkruxq",
    "papermill": {
     "duration": 0.08167,
     "end_time": "2022-02-13T23:31:15.83029",
     "exception": false,
     "start_time": "2022-02-13T23:31:15.74862",
     "status": "completed"
    },
    "tags": []
   },
   "outputs": [
    {
     "data": {
      "text/html": [
       "<div>\n",
       "<style scoped>\n",
       "    .dataframe tbody tr th:only-of-type {\n",
       "        vertical-align: middle;\n",
       "    }\n",
       "\n",
       "    .dataframe tbody tr th {\n",
       "        vertical-align: top;\n",
       "    }\n",
       "\n",
       "    .dataframe thead th {\n",
       "        text-align: right;\n",
       "    }\n",
       "</style>\n",
       "<table border=\"1\" class=\"dataframe\">\n",
       "  <thead>\n",
       "    <tr style=\"text-align: right;\">\n",
       "      <th></th>\n",
       "      <th>game_time</th>\n",
       "      <th>game_mode</th>\n",
       "      <th>lobby_type</th>\n",
       "      <th>objectives_len</th>\n",
       "      <th>chat_len</th>\n",
       "      <th>r1_hero_id</th>\n",
       "      <th>r1_kills</th>\n",
       "      <th>r1_deaths</th>\n",
       "      <th>r1_assists</th>\n",
       "      <th>r1_denies</th>\n",
       "      <th>...</th>\n",
       "      <th>d5_rune_pickups</th>\n",
       "      <th>d5_firstblood_claimed</th>\n",
       "      <th>d5_teamfight_participation</th>\n",
       "      <th>d5_towers_killed</th>\n",
       "      <th>d5_roshans_killed</th>\n",
       "      <th>d5_obs_placed</th>\n",
       "      <th>d5_sen_placed</th>\n",
       "      <th>radiant_tower_kills</th>\n",
       "      <th>dire_tower_kills</th>\n",
       "      <th>diff_tower_kills</th>\n",
       "    </tr>\n",
       "    <tr>\n",
       "      <th>match_id_hash</th>\n",
       "      <th></th>\n",
       "      <th></th>\n",
       "      <th></th>\n",
       "      <th></th>\n",
       "      <th></th>\n",
       "      <th></th>\n",
       "      <th></th>\n",
       "      <th></th>\n",
       "      <th></th>\n",
       "      <th></th>\n",
       "      <th></th>\n",
       "      <th></th>\n",
       "      <th></th>\n",
       "      <th></th>\n",
       "      <th></th>\n",
       "      <th></th>\n",
       "      <th></th>\n",
       "      <th></th>\n",
       "      <th></th>\n",
       "      <th></th>\n",
       "      <th></th>\n",
       "    </tr>\n",
       "  </thead>\n",
       "  <tbody>\n",
       "    <tr>\n",
       "      <td>b9c57c450ce74a2af79c9ce96fac144d</td>\n",
       "      <td>658</td>\n",
       "      <td>4</td>\n",
       "      <td>0</td>\n",
       "      <td>3</td>\n",
       "      <td>10</td>\n",
       "      <td>15</td>\n",
       "      <td>7</td>\n",
       "      <td>2</td>\n",
       "      <td>0</td>\n",
       "      <td>7</td>\n",
       "      <td>...</td>\n",
       "      <td>0</td>\n",
       "      <td>0</td>\n",
       "      <td>0.00</td>\n",
       "      <td>0</td>\n",
       "      <td>0</td>\n",
       "      <td>0</td>\n",
       "      <td>0</td>\n",
       "      <td>2.0</td>\n",
       "      <td>0.0</td>\n",
       "      <td>2.0</td>\n",
       "    </tr>\n",
       "    <tr>\n",
       "      <td>6db558535151ea18ca70a6892197db41</td>\n",
       "      <td>21</td>\n",
       "      <td>23</td>\n",
       "      <td>0</td>\n",
       "      <td>0</td>\n",
       "      <td>0</td>\n",
       "      <td>101</td>\n",
       "      <td>0</td>\n",
       "      <td>0</td>\n",
       "      <td>0</td>\n",
       "      <td>0</td>\n",
       "      <td>...</td>\n",
       "      <td>0</td>\n",
       "      <td>0</td>\n",
       "      <td>0.00</td>\n",
       "      <td>0</td>\n",
       "      <td>0</td>\n",
       "      <td>0</td>\n",
       "      <td>0</td>\n",
       "      <td>0.0</td>\n",
       "      <td>0.0</td>\n",
       "      <td>0.0</td>\n",
       "    </tr>\n",
       "    <tr>\n",
       "      <td>19c39fe2af2b547e48708ca005c6ae74</td>\n",
       "      <td>160</td>\n",
       "      <td>22</td>\n",
       "      <td>7</td>\n",
       "      <td>0</td>\n",
       "      <td>0</td>\n",
       "      <td>57</td>\n",
       "      <td>0</td>\n",
       "      <td>0</td>\n",
       "      <td>0</td>\n",
       "      <td>1</td>\n",
       "      <td>...</td>\n",
       "      <td>0</td>\n",
       "      <td>0</td>\n",
       "      <td>0.00</td>\n",
       "      <td>0</td>\n",
       "      <td>0</td>\n",
       "      <td>0</td>\n",
       "      <td>0</td>\n",
       "      <td>0.0</td>\n",
       "      <td>0.0</td>\n",
       "      <td>0.0</td>\n",
       "    </tr>\n",
       "    <tr>\n",
       "      <td>c96d629dc0c39f0c616d1949938a6ba6</td>\n",
       "      <td>1016</td>\n",
       "      <td>22</td>\n",
       "      <td>0</td>\n",
       "      <td>1</td>\n",
       "      <td>0</td>\n",
       "      <td>119</td>\n",
       "      <td>0</td>\n",
       "      <td>3</td>\n",
       "      <td>3</td>\n",
       "      <td>5</td>\n",
       "      <td>...</td>\n",
       "      <td>3</td>\n",
       "      <td>0</td>\n",
       "      <td>0.25</td>\n",
       "      <td>0</td>\n",
       "      <td>0</td>\n",
       "      <td>3</td>\n",
       "      <td>0</td>\n",
       "      <td>0.0</td>\n",
       "      <td>0.0</td>\n",
       "      <td>0.0</td>\n",
       "    </tr>\n",
       "    <tr>\n",
       "      <td>156c88bff4e9c4668b0f53df3d870f1b</td>\n",
       "      <td>582</td>\n",
       "      <td>22</td>\n",
       "      <td>7</td>\n",
       "      <td>2</td>\n",
       "      <td>2</td>\n",
       "      <td>12</td>\n",
       "      <td>3</td>\n",
       "      <td>1</td>\n",
       "      <td>2</td>\n",
       "      <td>9</td>\n",
       "      <td>...</td>\n",
       "      <td>0</td>\n",
       "      <td>1</td>\n",
       "      <td>0.50</td>\n",
       "      <td>0</td>\n",
       "      <td>0</td>\n",
       "      <td>3</td>\n",
       "      <td>0</td>\n",
       "      <td>0.0</td>\n",
       "      <td>1.0</td>\n",
       "      <td>-1.0</td>\n",
       "    </tr>\n",
       "  </tbody>\n",
       "</table>\n",
       "<p>5 rows × 248 columns</p>\n",
       "</div>"
      ],
      "text/plain": [
       "                                  game_time  game_mode  lobby_type  \\\n",
       "match_id_hash                                                        \n",
       "b9c57c450ce74a2af79c9ce96fac144d        658          4           0   \n",
       "6db558535151ea18ca70a6892197db41         21         23           0   \n",
       "19c39fe2af2b547e48708ca005c6ae74        160         22           7   \n",
       "c96d629dc0c39f0c616d1949938a6ba6       1016         22           0   \n",
       "156c88bff4e9c4668b0f53df3d870f1b        582         22           7   \n",
       "\n",
       "                                  objectives_len  chat_len  r1_hero_id  \\\n",
       "match_id_hash                                                            \n",
       "b9c57c450ce74a2af79c9ce96fac144d               3        10          15   \n",
       "6db558535151ea18ca70a6892197db41               0         0         101   \n",
       "19c39fe2af2b547e48708ca005c6ae74               0         0          57   \n",
       "c96d629dc0c39f0c616d1949938a6ba6               1         0         119   \n",
       "156c88bff4e9c4668b0f53df3d870f1b               2         2          12   \n",
       "\n",
       "                                  r1_kills  r1_deaths  r1_assists  r1_denies  \\\n",
       "match_id_hash                                                                  \n",
       "b9c57c450ce74a2af79c9ce96fac144d         7          2           0          7   \n",
       "6db558535151ea18ca70a6892197db41         0          0           0          0   \n",
       "19c39fe2af2b547e48708ca005c6ae74         0          0           0          1   \n",
       "c96d629dc0c39f0c616d1949938a6ba6         0          3           3          5   \n",
       "156c88bff4e9c4668b0f53df3d870f1b         3          1           2          9   \n",
       "\n",
       "                                  ...  d5_rune_pickups  d5_firstblood_claimed  \\\n",
       "match_id_hash                     ...                                           \n",
       "b9c57c450ce74a2af79c9ce96fac144d  ...                0                      0   \n",
       "6db558535151ea18ca70a6892197db41  ...                0                      0   \n",
       "19c39fe2af2b547e48708ca005c6ae74  ...                0                      0   \n",
       "c96d629dc0c39f0c616d1949938a6ba6  ...                3                      0   \n",
       "156c88bff4e9c4668b0f53df3d870f1b  ...                0                      1   \n",
       "\n",
       "                                  d5_teamfight_participation  \\\n",
       "match_id_hash                                                  \n",
       "b9c57c450ce74a2af79c9ce96fac144d                        0.00   \n",
       "6db558535151ea18ca70a6892197db41                        0.00   \n",
       "19c39fe2af2b547e48708ca005c6ae74                        0.00   \n",
       "c96d629dc0c39f0c616d1949938a6ba6                        0.25   \n",
       "156c88bff4e9c4668b0f53df3d870f1b                        0.50   \n",
       "\n",
       "                                  d5_towers_killed  d5_roshans_killed  \\\n",
       "match_id_hash                                                           \n",
       "b9c57c450ce74a2af79c9ce96fac144d                 0                  0   \n",
       "6db558535151ea18ca70a6892197db41                 0                  0   \n",
       "19c39fe2af2b547e48708ca005c6ae74                 0                  0   \n",
       "c96d629dc0c39f0c616d1949938a6ba6                 0                  0   \n",
       "156c88bff4e9c4668b0f53df3d870f1b                 0                  0   \n",
       "\n",
       "                                  d5_obs_placed  d5_sen_placed  \\\n",
       "match_id_hash                                                    \n",
       "b9c57c450ce74a2af79c9ce96fac144d              0              0   \n",
       "6db558535151ea18ca70a6892197db41              0              0   \n",
       "19c39fe2af2b547e48708ca005c6ae74              0              0   \n",
       "c96d629dc0c39f0c616d1949938a6ba6              3              0   \n",
       "156c88bff4e9c4668b0f53df3d870f1b              3              0   \n",
       "\n",
       "                                  radiant_tower_kills  dire_tower_kills  \\\n",
       "match_id_hash                                                             \n",
       "b9c57c450ce74a2af79c9ce96fac144d                  2.0               0.0   \n",
       "6db558535151ea18ca70a6892197db41                  0.0               0.0   \n",
       "19c39fe2af2b547e48708ca005c6ae74                  0.0               0.0   \n",
       "c96d629dc0c39f0c616d1949938a6ba6                  0.0               0.0   \n",
       "156c88bff4e9c4668b0f53df3d870f1b                  0.0               1.0   \n",
       "\n",
       "                                  diff_tower_kills  \n",
       "match_id_hash                                       \n",
       "b9c57c450ce74a2af79c9ce96fac144d               2.0  \n",
       "6db558535151ea18ca70a6892197db41               0.0  \n",
       "19c39fe2af2b547e48708ca005c6ae74               0.0  \n",
       "c96d629dc0c39f0c616d1949938a6ba6               0.0  \n",
       "156c88bff4e9c4668b0f53df3d870f1b              -1.0  \n",
       "\n",
       "[5 rows x 248 columns]"
      ]
     },
     "execution_count": 30,
     "metadata": {},
     "output_type": "execute_result"
    }
   ],
   "source": [
    "df_train_features_extended.head()"
   ]
  },
  {
   "cell_type": "code",
   "execution_count": 29,
   "metadata": {
    "execution": {
     "iopub.execute_input": "2022-02-13T23:31:15.940354Z",
     "iopub.status.busy": "2022-02-13T23:31:15.939295Z",
     "iopub.status.idle": "2022-02-13T23:32:55.255752Z",
     "shell.execute_reply": "2022-02-13T23:32:55.256364Z",
     "shell.execute_reply.started": "2022-02-13T23:00:39.716567Z"
    },
    "id": "rpQqtYgoruxr",
    "papermill": {
     "duration": 99.37327,
     "end_time": "2022-02-13T23:32:55.256572",
     "exception": false,
     "start_time": "2022-02-13T23:31:15.883302",
     "status": "completed"
    },
    "tags": []
   },
   "outputs": [
    {
     "name": "stdout",
     "output_type": "stream",
     "text": [
      "Wall time: 1min 49s\n"
     ]
    }
   ],
   "source": [
    "%%time\n",
    "cv_scores_base = cross_val_score(rf_model, X, y, cv=cv, scoring=\"roc_auc\", n_jobs=-1)\n",
    "cv_scores_extended = cross_val_score(rf_model, df_train_features_extended.values, y, \n",
    "                                     cv=cv, scoring=\"roc_auc\", n_jobs=-1)"
   ]
  },
  {
   "cell_type": "code",
   "execution_count": 30,
   "metadata": {
    "execution": {
     "iopub.execute_input": "2022-02-13T23:32:55.369159Z",
     "iopub.status.busy": "2022-02-13T23:32:55.368145Z",
     "iopub.status.idle": "2022-02-13T23:32:55.37182Z",
     "shell.execute_reply": "2022-02-13T23:32:55.372356Z",
     "shell.execute_reply.started": "2022-02-13T23:02:14.824997Z"
    },
    "id": "GFClSEIkruxr",
    "papermill": {
     "duration": 0.062721,
     "end_time": "2022-02-13T23:32:55.372536",
     "exception": false,
     "start_time": "2022-02-13T23:32:55.309815",
     "status": "completed"
    },
    "tags": []
   },
   "outputs": [
    {
     "name": "stdout",
     "output_type": "stream",
     "text": [
      "ROC-AUC на кросс-валидации для базовых признаков: 0.7720210676055513\n",
      "ROC-AUC на кросс-валидации для новых признаков: 0.778796825263235\n"
     ]
    }
   ],
   "source": [
    "print(f\"ROC-AUC на кросс-валидации для базовых признаков: {cv_scores_base.mean()}\")\n",
    "print(f\"ROC-AUC на кросс-валидации для новых признаков: {cv_scores_extended.mean()}\")"
   ]
  },
  {
   "cell_type": "markdown",
   "metadata": {
    "id": "-ObIyUa3ruxs",
    "papermill": {
     "duration": 0.053505,
     "end_time": "2022-02-13T23:32:55.479766",
     "exception": false,
     "start_time": "2022-02-13T23:32:55.426261",
     "status": "completed"
    },
    "tags": []
   },
   "source": [
    "Видно, что случайный лес стал работать немного лучше при добавлении новых признаков. A еще нужно, наверное, как-то по-умному закодировать категориальные признаки."
   ]
  },
  {
   "cell_type": "markdown",
   "metadata": {
    "id": "O0fnKrIeruxs",
    "papermill": {
     "duration": 0.053776,
     "end_time": "2022-02-13T23:32:55.587047",
     "exception": false,
     "start_time": "2022-02-13T23:32:55.533271",
     "status": "completed"
    },
    "tags": []
   },
   "source": [
    "Дальше дело за малым. Добавляйте новые признаки, пробуйте другие методы, которые мы изучили, а также что-то интересное, что мы не прошли. Удачи!"
   ]
  },
  {
   "cell_type": "markdown",
   "metadata": {},
   "source": [
    "Сначала переберем все модели которые были в предыдущем дз."
   ]
  },
  {
   "cell_type": "code",
   "execution_count": null,
   "metadata": {},
   "outputs": [
    {
     "name": "stdout",
     "output_type": "stream",
     "text": [
      "DecisionTreeClassifier: 0.6996785313601833\n",
      "RandomForestClassifier: 0.7731839649253668\n",
      "CatBoostClassifier: 0.8012284159085091\n",
      "ExtraTreesClassifier: 0.7797525172503896\n",
      "KNeighborsClassifier: 0.7131076168293383\n"
     ]
    }
   ],
   "source": [
    "dt = DecisionTreeClassifier(random_state=SEED, max_depth=10, min_samples_leaf=10)\n",
    "rf = RandomForestClassifier(n_estimators=50, random_state=SEED)\n",
    "etc = ExtraTreesClassifier(random_state=SEED)\n",
    "knn = KNeighborsClassifier(n_neighbors=5, weights=\"distance\")\n",
    "svc_lin = SVC(kernel='linear', probability=True, random_state=SEED)\n",
    "svc_rbf = SVC(kernel='rbf', probability=True, random_state=SEED)\n",
    "cat = catboost.CatBoostClassifier(verbose=0, random_seed=SEED)\n",
    "lgbm = lightgbm.LGBMClassifier(random_state=SEED)\n",
    "lgbm_rf = lightgbm.LGBMClassifier(boosting_type=\"rf\", bagging_freq=1, bagging_fraction=0.7, random_state=SEED)\n",
    "xgb = xgboost.XGBClassifier(random_state=SEED)\n",
    "xgb_rf = xgboost.XGBRFClassifier(random_state=SEED)\n",
    "lr = LogisticRegression(solver='liblinear', max_iter=10000)\n",
    "nb = GaussianNB()\n",
    "\n",
    "\n",
    "base_models = [(\"DT\", dt), (\"RF\", rf), \n",
    "               (\"ETC\", etc), (\"KNN\", knn), \n",
    "               (\"SVC_LIN\", svc_lin), (\"SVC_RBF\", svc_rbf), \n",
    "               (\"CAT\", cat), (\"LGBM\", lgbm), \n",
    "               (\"LGBM_RF\", lgbm_rf), (\"XGB\", xgb), \n",
    "               (\"XGB_RF\", xgb_rf), (\"LR\", lr), (\"NB\", nb)]\n",
    "\n",
    "vth = VotingClassifier(estimators=base_models, voting='hard')\n",
    "vts = VotingClassifier(estimators=base_models, voting='soft')\n",
    "for model in [dt, rf, cat, etc, knn, svc_lin, svc_rbf, xgb, lgbm, xgb_rf, lgbm_rf, lr, nb, vth, vts]:#, voting_hard, voting_soft]:\n",
    "    scores = cross_val_score(model, df_train_features_extended.values, y, cv=cv, scoring=\"roc_auc\", n_jobs=-1)\n",
    "    print(f\"{model.__class__.__name__}: {scores.mean()}\")"
   ]
  },
  {
   "cell_type": "code",
   "execution_count": null,
   "metadata": {},
   "outputs": [],
   "source": [
    "svc_lin = SVC(kernel='linear', probability=True, random_state=SEED)\n",
    "svc_rbf = SVC(kernel='rbf', probability=True, random_state=SEED)\n",
    "lgbm = lightgbm.LGBMClassifier(random_state=SEED)\n",
    "lgbm_rf = lightgbm.LGBMClassifier(boosting_type=\"rf\", bagging_freq=1, bagging_fraction=0.7, random_state=SEED)\n",
    "xgb = xgboost.XGBClassifier(random_state=SEED)\n",
    "xgb_rf = xgboost.XGBRFClassifier(random_state=SEED)\n",
    "lr = LogisticRegression(solver='liblinear', max_iter=10000)\n",
    "nb = GaussianNB()\n",
    "\n",
    "for model in [svc_lin, svc_rbf, xgb, lgbm, xgb_rf, lgbm_rf, lr, nb]:#, voting_hard, voting_soft]:\n",
    "    scores = cross_val_score(model, df_train_features_extended.values, y, cv=cv, scoring=\"roc_auc\", n_jobs=-1)\n",
    "    print(f\"{model.__class__.__name__}: {scores.mean()}\")"
   ]
  },
  {
   "cell_type": "code",
   "execution_count": 16,
   "metadata": {},
   "outputs": [
    {
     "name": "stdout",
     "output_type": "stream",
     "text": [
      "LogisticRegression: 0.8074803532630705\n"
     ]
    }
   ],
   "source": [
    "svc_lin = SVC(kernel='linear', probability=True, random_state=SEED)\n",
    "svc_rbf = SVC(kernel='rbf', probability=True, random_state=SEED)\n",
    "lgbm = lightgbm.LGBMClassifier(random_state=SEED)\n",
    "lgbm_rf = lightgbm.LGBMClassifier(boosting_type=\"rf\", bagging_freq=1, bagging_fraction=0.7, random_state=SEED)\n",
    "xgb = xgboost.XGBClassifier(random_state=SEED)\n",
    "xgb_rf = xgboost.XGBRFClassifier(random_state=SEED)\n",
    "lr = LogisticRegression(solver='liblinear', max_iter=10000)\n",
    "nb = GaussianNB()\n",
    "\n",
    "for model in [lr]:#, voting_hard, voting_soft]:\n",
    "    scores = cross_val_score(model, df_train_features_extended.values, y, cv=cv, scoring=\"roc_auc\", n_jobs=-1)\n",
    "    print(f\"{model.__class__.__name__}: {scores.mean()}\")"
   ]
  },
  {
   "cell_type": "code",
   "execution_count": 32,
   "metadata": {},
   "outputs": [
    {
     "name": "stdout",
     "output_type": "stream",
     "text": [
      "CatBoostClassifier: 0.8012284159085091\n"
     ]
    }
   ],
   "source": [
    "cat = catboost.CatBoostClassifier(verbose=0, random_seed=SEED)\n",
    "for model in [cat]:#, voting_hard, voting_soft]:\n",
    "    scores = cross_val_score(model, df_train_features_extended.values, y, cv=cv, scoring=\"roc_auc\", n_jobs=-1)\n",
    "    print(f\"{model.__class__.__name__}: {scores.mean()}\")"
   ]
  },
  {
   "cell_type": "markdown",
   "metadata": {},
   "source": [
    "Пошлем эти результаты как первую посылку."
   ]
  },
  {
   "cell_type": "code",
   "execution_count": 33,
   "metadata": {},
   "outputs": [],
   "source": [
    "cat = catboost.CatBoostClassifier(verbose=0, random_seed=SEED).fit(df_train_features_extended.values, y)"
   ]
  },
  {
   "cell_type": "code",
   "execution_count": 36,
   "metadata": {},
   "outputs": [
    {
     "data": {
      "application/vnd.jupyter.widget-view+json": {
       "model_id": "268a87a070f04cf9be1bc87792d88235",
       "version_major": 2,
       "version_minor": 0
      },
      "text/plain": [
       "HBox(children=(IntProgress(value=0, max=31698), HTML(value='')))"
      ]
     },
     "metadata": {},
     "output_type": "display_data"
    },
    {
     "name": "stdout",
     "output_type": "stream",
     "text": [
      "\n"
     ]
    }
   ],
   "source": [
    "df_test_features = pd.read_csv(\"test_data.csv\", index_col=\"match_id_hash\")\n",
    "df_test_features_extended = df_test_features.copy()\n",
    "\n",
    "add_new_features(df_test_features_extended, \"test_raw_data.jsonl\")"
   ]
  },
  {
   "cell_type": "code",
   "execution_count": 38,
   "metadata": {},
   "outputs": [],
   "source": [
    "X_test = df_test_features_extended.values\n",
    "\n",
    "y_test_pred = cat.predict_proba(X_test)[:, 1]\n",
    "\n",
    "df_submission = pd.DataFrame({\"radiant_win_prob\": y_test_pred}, \n",
    "                                 index=df_test_features.index)"
   ]
  },
  {
   "cell_type": "code",
   "execution_count": 39,
   "metadata": {},
   "outputs": [
    {
     "name": "stdout",
     "output_type": "stream",
     "text": [
      "Файл посылки сохранен, как: submission_2023-04-08_20-40-53.csv\n"
     ]
    }
   ],
   "source": [
    "submission_filename = \"submission_{}.csv\".format(\n",
    "    datetime.datetime.now().strftime(\"%Y-%m-%d_%H-%M-%S\"))\n",
    "df_submission.to_csv(submission_filename)\n",
    "print(\"Файл посылки сохранен, как: {}\".format(submission_filename))"
   ]
  },
  {
   "cell_type": "code",
   "execution_count": 19,
   "metadata": {},
   "outputs": [
    {
     "data": {
      "application/vnd.jupyter.widget-view+json": {
       "model_id": "ffd30824f4d349b38e595257811d5599",
       "version_major": 2,
       "version_minor": 0
      },
      "text/plain": [
       "HBox(children=(IntProgress(value=0, max=31698), HTML(value='')))"
      ]
     },
     "metadata": {},
     "output_type": "display_data"
    },
    {
     "name": "stdout",
     "output_type": "stream",
     "text": [
      "\n",
      "Файл посылки сохранен, как: submission_2023-04-08_23-42-56.csv\n"
     ]
    }
   ],
   "source": [
    "lr = LogisticRegression(solver='liblinear', max_iter=10000).fit(df_train_features_extended.values, y)\n",
    "df_test_features = pd.read_csv(\"test_data.csv\", index_col=\"match_id_hash\")\n",
    "df_test_features_extended = df_test_features.copy()\n",
    "\n",
    "add_new_features(df_test_features_extended, \"test_raw_data.jsonl\")\n",
    "X_test = df_test_features_extended.values\n",
    "\n",
    "y_test_pred = lr.predict_proba(X_test)[:, 1]\n",
    "\n",
    "df_submission = pd.DataFrame({\"radiant_win_prob\": y_test_pred}, \n",
    "                                 index=df_test_features.index)\n",
    "submission_filename = \"submission_{}.csv\".format(\n",
    "    datetime.datetime.now().strftime(\"%Y-%m-%d_%H-%M-%S\"))\n",
    "df_submission.to_csv(submission_filename)\n",
    "print(\"Файл посылки сохранен, как: {}\".format(submission_filename))"
   ]
  },
  {
   "cell_type": "markdown",
   "metadata": {},
   "source": [
    "логистическая регрессия оказалась еще лучше, берем ее"
   ]
  },
  {
   "cell_type": "code",
   "execution_count": 11,
   "metadata": {},
   "outputs": [],
   "source": [
    "def add_new_features(df_features, matches_file):\n",
    "    \"\"\"\n",
    "    Аргуенты\n",
    "    -------\n",
    "    df_features: таблица с данными\n",
    "    matches_file: JSON файл с сырыми данными\n",
    "    \n",
    "    Результат\n",
    "    ---------\n",
    "    Добавляет новые признаки в таблицу\n",
    "    \"\"\"\n",
    "    \n",
    "    for match in read_matches(matches_file):\n",
    "        match_id_hash = match['match_id_hash']\n",
    "\n",
    "        # Посчитаем количество разрушенных вышек обеими командами\n",
    "        radiant_tower_kills = 0\n",
    "        dire_tower_kills = 0\n",
    "        for objective in match[\"objectives\"]:\n",
    "            if objective[\"type\"] == \"CHAT_MESSAGE_TOWER_KILL\":\n",
    "                if objective[\"team\"] == 2:\n",
    "                    radiant_tower_kills += 1\n",
    "                if objective[\"team\"] == 3:\n",
    "                    dire_tower_kills += 1\n",
    "        for i in range(10):\n",
    "            player = match[\"players\"][i]\n",
    "            if player['deaths'] == 0:\n",
    "                kda = 0\n",
    "            else: \n",
    "                kda = (player[\"assists\"] + player[\"kills\"])/player[\"deaths\"]\n",
    "            if i < 5:\n",
    "                    df_features.loc[match_id_hash, \"r\" + str(i+1) + '_kda'] = kda\n",
    "            else:\n",
    "                    df_features.loc[match_id_hash, \"d\" + str(i - 4) + '_kda'] = kda\n",
    "                    \n",
    "                \n",
    "\n",
    "        df_features.loc[match_id_hash, \"radiant_tower_kills\"] = radiant_tower_kills\n",
    "        df_features.loc[match_id_hash, \"dire_tower_kills\"] = dire_tower_kills\n",
    "        df_features.loc[match_id_hash, \"diff_tower_kills\"] = radiant_tower_kills - dire_tower_kills\n",
    "        \n",
    "        # ... (/¯◡ ‿ ◡)/¯☆*:・ﾟ добавляем новые признаки ...\n",
    "        #добавила KDA для каждого персонажа"
   ]
  },
  {
   "cell_type": "code",
   "execution_count": 12,
   "metadata": {},
   "outputs": [
    {
     "data": {
      "application/vnd.jupyter.widget-view+json": {
       "model_id": "6b8426401e8349d9a97fe320e9abe1e3",
       "version_major": 2,
       "version_minor": 0
      },
      "text/plain": [
       "HBox(children=(IntProgress(value=0, max=31698), HTML(value='')))"
      ]
     },
     "metadata": {},
     "output_type": "display_data"
    },
    {
     "name": "stdout",
     "output_type": "stream",
     "text": [
      "\n"
     ]
    },
    {
     "data": {
      "application/vnd.jupyter.widget-view+json": {
       "model_id": "51887cff726a4610bcb7a28d62e649c8",
       "version_major": 2,
       "version_minor": 0
      },
      "text/plain": [
       "HBox(children=(IntProgress(value=0, max=31698), HTML(value='')))"
      ]
     },
     "metadata": {},
     "output_type": "display_data"
    },
    {
     "name": "stdout",
     "output_type": "stream",
     "text": [
      "\n",
      "Файл посылки сохранен, как: submission_2023-04-09_00-29-41.csv\n"
     ]
    }
   ],
   "source": [
    "df_train_features_extended = df_train_features.copy()\n",
    "add_new_features(df_train_features_extended, \"train_raw_data.jsonl\")\n",
    "\n",
    "lr = LogisticRegression(solver='liblinear', max_iter=10000).fit(df_train_features_extended.values, y)\n",
    "df_test_features = pd.read_csv(\"test_data.csv\", index_col=\"match_id_hash\")\n",
    "df_test_features_extended = df_test_features.copy()\n",
    "\n",
    "add_new_features(df_test_features_extended, \"test_raw_data.jsonl\")\n",
    "X_test = df_test_features_extended.values\n",
    "\n",
    "y_test_pred = lr.predict_proba(X_test)[:, 1]\n",
    "\n",
    "df_submission = pd.DataFrame({\"radiant_win_prob\": y_test_pred}, \n",
    "                                 index=df_test_features.index)\n",
    "submission_filename = \"submission_{}.csv\".format(\n",
    "    datetime.datetime.now().strftime(\"%Y-%m-%d_%H-%M-%S\"))\n",
    "df_submission.to_csv(submission_filename)\n",
    "print(\"Файл посылки сохранен, как: {}\".format(submission_filename))"
   ]
  },
  {
   "cell_type": "markdown",
   "metadata": {},
   "source": [
    "Эта посылка оказалась хуже предыдущей, поэтому эти данные пока выкидываем."
   ]
  },
  {
   "cell_type": "code",
   "execution_count": 16,
   "metadata": {},
   "outputs": [],
   "source": [
    "a = read_matches(\"test_raw_data.jsonl\")"
   ]
  },
  {
   "cell_type": "code",
   "execution_count": 18,
   "metadata": {},
   "outputs": [
    {
     "ename": "TypeError",
     "evalue": "'generator' object is not subscriptable",
     "output_type": "error",
     "traceback": [
      "\u001b[1;31m---------------------------------------------------------------------------\u001b[0m",
      "\u001b[1;31mTypeError\u001b[0m                                 Traceback (most recent call last)",
      "\u001b[1;32m<ipython-input-18-23821ec76b06>\u001b[0m in \u001b[0;36m<module>\u001b[1;34m\u001b[0m\n\u001b[1;32m----> 1\u001b[1;33m \u001b[0mprint\u001b[0m\u001b[1;33m(\u001b[0m\u001b[0ma\u001b[0m\u001b[1;33m[\u001b[0m\u001b[1;36m0\u001b[0m\u001b[1;33m]\u001b[0m\u001b[1;33m)\u001b[0m\u001b[1;33m\u001b[0m\u001b[1;33m\u001b[0m\u001b[0m\n\u001b[0m",
      "\u001b[1;31mTypeError\u001b[0m: 'generator' object is not subscriptable"
     ]
    }
   ],
   "source": []
  },
  {
   "cell_type": "code",
   "execution_count": 95,
   "metadata": {},
   "outputs": [],
   "source": [
    "def add_new_features(df_features, matches_file):\n",
    "    \"\"\"\n",
    "    Аргуенты\n",
    "    -------\n",
    "    df_features: таблица с данными\n",
    "    matches_file: JSON файл с сырыми данными\n",
    "    \n",
    "    Результат\n",
    "    ---------\n",
    "    Добавляет новые признаки в таблицу\n",
    "    \"\"\"\n",
    "    \n",
    "    for match in read_matches(matches_file):\n",
    "        match_id_hash = match['match_id_hash']\n",
    "\n",
    "        # Посчитаем количество разрушенных вышек обеими командами\n",
    "        radiant_tower_kills = 0\n",
    "        dire_tower_kills = 0\n",
    "        r_aeigs = 0\n",
    "        d_aeigs = 0\n",
    "        for objective in match[\"objectives\"]:\n",
    "            if objective[\"type\"] == \"CHAT_MESSAGE_TOWER_KILL\":\n",
    "                if objective[\"team\"] == 2:\n",
    "                    radiant_tower_kills += 1\n",
    "                if objective[\"team\"] == 3:\n",
    "                    dire_tower_kills += 1\n",
    "        radiant_tower_kills = 0\n",
    "        dire_tower_kills = 0\n",
    "        for objective in match[\"objectives\"]:\n",
    "            if objective[\"type\"] == \"CHAT_MESSAGE_AEGIS\":\n",
    "                if objective[\"player_slot\"] < 6:\n",
    "                    r_aeigs += 1\n",
    "                else:\n",
    "                    d_aeigs += 1\n",
    "                    \n",
    "        Kr = 0\n",
    "        Kd = 0\n",
    "        Dr = 0\n",
    "        Dd = 0\n",
    "        Ar = 0\n",
    "        Ad = 0\n",
    "        AUr = 0\n",
    "        AUd = 0\n",
    "        for i in range(10):\n",
    "            player = match[\"players\"][i]\n",
    "            if i < 5:\n",
    "                    Kr += player[\"kills\"]\n",
    "                    Dr += player[\"deaths\"]\n",
    "                    Ar += player[\"assists\"]\n",
    "                    AUr += len(player['ability_upgrades'])\n",
    "            else:\n",
    "                    Kd += player[\"kills\"]\n",
    "                    Dd += player[\"deaths\"]\n",
    "                    Ad += player[\"assists\"]\n",
    "                    AUd += len(player['ability_upgrades'])\n",
    "                    \n",
    "        if Dr == 0:\n",
    "            KDAr = 0\n",
    "        else:\n",
    "            KDAr = (Kr + Ar)/Dr\n",
    "        \n",
    "        if Dd == 0:\n",
    "            KDAd = 0\n",
    "        else:\n",
    "            KDAd = (Kd + Ad)/Dd\n",
    "                \n",
    "\n",
    "        df_features.loc[match_id_hash, \"radiant_tower_kills\"] = radiant_tower_kills\n",
    "        df_features.loc[match_id_hash, \"dire_tower_kills\"] = dire_tower_kills\n",
    "        df_features.loc[match_id_hash, \"diff_tower_kills\"] = radiant_tower_kills - dire_tower_kills\n",
    "        df_features.loc[match_id_hash, \"radiant_KDA\"] = KDAr\n",
    "        df_features.loc[match_id_hash, \"dire_KDA\"] = KDAd\n",
    "        df_features.loc[match_id_hash, \"radiant_AU\"] = AUr\n",
    "        df_features.loc[match_id_hash, \"dire_AU\"] = AUd\n",
    "        df_features.loc[match_id_hash, \"radiant_aeigs\"] = r_aeigs\n",
    "        df_features.loc[match_id_hash, \"dire_aeigs\"] = d_aeigs\n",
    "        # ... (/¯◡ ‿ ◡)/¯☆*:・ﾟ добавляем новые признаки ...\n",
    "        #добавила KDA для каждого персонажа"
   ]
  },
  {
   "cell_type": "code",
   "execution_count": 96,
   "metadata": {},
   "outputs": [
    {
     "data": {
      "application/vnd.jupyter.widget-view+json": {
       "model_id": "b0eaf603a50541f4a84fbe68739827cb",
       "version_major": 2,
       "version_minor": 0
      },
      "text/plain": [
       "HBox(children=(IntProgress(value=0, max=31698), HTML(value='')))"
      ]
     },
     "metadata": {},
     "output_type": "display_data"
    },
    {
     "name": "stdout",
     "output_type": "stream",
     "text": [
      "\n",
      "0.8081808691577148\n"
     ]
    },
    {
     "data": {
      "application/vnd.jupyter.widget-view+json": {
       "model_id": "ff8d101a58894eb9872528e6a81c09a0",
       "version_major": 2,
       "version_minor": 0
      },
      "text/plain": [
       "HBox(children=(IntProgress(value=0, max=31698), HTML(value='')))"
      ]
     },
     "metadata": {},
     "output_type": "display_data"
    },
    {
     "name": "stdout",
     "output_type": "stream",
     "text": [
      "\n",
      "Файл посылки сохранен, как: submission_2023-04-09_23-32-53.csv\n"
     ]
    }
   ],
   "source": [
    "df_train_features_extended = df_train_features.copy()\n",
    "add_new_features(df_train_features_extended, \"train_raw_data.jsonl\")\n",
    "\n",
    "scores = cross_val_score(lr, df_train_features_extended.values, y, cv=cv, scoring=\"roc_auc\", n_jobs=-1)\n",
    "print(scores.mean())\n",
    "\n",
    "lr = LogisticRegression(solver='liblinear', max_iter=10000).fit(df_train_features_extended.values, y)\n",
    "\n",
    "df_test_features = pd.read_csv(\"test_data.csv\", index_col=\"match_id_hash\")\n",
    "df_test_features_extended = df_test_features.copy()\n",
    "\n",
    "add_new_features(df_test_features_extended, \"test_raw_data.jsonl\")\n",
    "X_test = df_test_features_extended.values\n",
    "\n",
    "y_test_pred = lr.predict_proba(X_test)[:, 1]\n",
    "\n",
    "df_submission = pd.DataFrame({\"radiant_win_prob\": y_test_pred}, \n",
    "                                 index=df_test_features.index)\n",
    "submission_filename = \"submission_{}.csv\".format(\n",
    "    datetime.datetime.now().strftime(\"%Y-%m-%d_%H-%M-%S\"))\n",
    "df_submission.to_csv(submission_filename)\n",
    "print(\"Файл посылки сохранен, как: {}\".format(submission_filename))"
   ]
  },
  {
   "cell_type": "code",
   "execution_count": null,
   "metadata": {},
   "outputs": [],
   "source": []
  },
  {
   "cell_type": "code",
   "execution_count": null,
   "metadata": {},
   "outputs": [],
   "source": []
  }
 ],
 "metadata": {
  "colab": {
   "provenance": []
  },
  "kernelspec": {
   "display_name": "Python 3",
   "language": "python",
   "name": "python3"
  },
  "language_info": {
   "codemirror_mode": {
    "name": "ipython",
    "version": 3
   },
   "file_extension": ".py",
   "mimetype": "text/x-python",
   "name": "python",
   "nbconvert_exporter": "python",
   "pygments_lexer": "ipython3",
   "version": "3.7.4"
  }
 },
 "nbformat": 4,
 "nbformat_minor": 1
}
